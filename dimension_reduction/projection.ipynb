{
 "cells": [
  {
   "cell_type": "markdown",
   "metadata": {},
   "source": [
    "## PCA##\n",
    "\n",
    "**Priciple Component Analysis**\n",
    "\n",
    "This is done first by identify hyperplane that lies closest to the data then project the data onto it. The goal is finding axis that preserves *maximum variance*. \n",
    "\n",
    "The unit vector that defines $i^{th}$ axis is called the $i^{th}$ *principle component*\n",
    "\n",
    "To find PC, there is a matrix factorisation technique called *Singular Value Decomposition* (SVD). That can decompose training mateix $X_{m \\times n}$ into $U_{m \\times r}\\cdot \\Sigma_{r\\times r} \\cdot V^T_{r \\times n}$. Where $\\Sigma$ is a *singular* matr (diagnal zeros)"
   ]
  },
  {
   "cell_type": "code",
   "execution_count": null,
   "metadata": {},
   "outputs": [],
   "source": [
    "import numpy as np\n",
    "from sklearn.datasets import load_iris\n",
    "\n",
    "iris = load_iris()\n",
    "X = iris['data']\n",
    "y = iris['target']"
   ]
  },
  {
   "cell_type": "code",
   "execution_count": null,
   "metadata": {},
   "outputs": [],
   "source": [
    "X_centered = X - X.mean(axis=0)\n",
    "U, s, Vt = np.linalg.svd(X_centered)\n",
    "\n",
    "c1 = Vt.T[:,0]\n",
    "c2 = Vt.T[:,1]\n",
    "\n",
    "print(X_centered.shape, U.shape, s.shape, Vt.shape)\n",
    "print(c1)"
   ]
  },
  {
   "cell_type": "markdown",
   "metadata": {},
   "source": [
    "### Projection\n",
    "Once PC is identified, the points can be projected on the PC as a dot product of X by the matrix $W_d$ defined by matrix containing the first d principle component.\n",
    "\n",
    "$X_d-proj = X \\cdot W_d$"
   ]
  },
  {
   "cell_type": "code",
   "execution_count": null,
   "metadata": {},
   "outputs": [],
   "source": [
    "# projection of X into PC1, 2\n",
    "W1 = X_centered.dot(c1)\n",
    "W2 = X_centered.dot(c2)"
   ]
  },
  {
   "cell_type": "code",
   "execution_count": null,
   "metadata": {},
   "outputs": [],
   "source": [
    "from matplotlib import pyplot as plt\n",
    "%matplotlib inline\n",
    "\n",
    "fig, ax = plt.subplots()\n",
    "ax.scatter(W1[np.where(y==0)], W2[np.where(y==0)], c = 'r', alpha =0.5)\n",
    "ax.scatter(W1[np.where(y==1)], W2[np.where(y==1)], c = 'g', alpha =0.5)\n",
    "ax.scatter(W1[np.where(y==2)], W2[np.where(y==2)], c = 'b', alpha =0.5)\n",
    "ax.set_xlabel('PC1')\n",
    "ax.set_ylabel('PC2')"
   ]
  },
  {
   "cell_type": "markdown",
   "metadata": {},
   "source": [
    "## Sklearn Implementation ##\n"
   ]
  },
  {
   "cell_type": "code",
   "execution_count": null,
   "metadata": {},
   "outputs": [],
   "source": [
    "from sklearn.decomposition import PCA\n",
    "pca = PCA(n_components=2)\n",
    "X2D = pca.fit_transform(X)"
   ]
  },
  {
   "cell_type": "code",
   "execution_count": null,
   "metadata": {},
   "outputs": [],
   "source": [
    "from matplotlib import pyplot as plt\n",
    "%matplotlib inline\n",
    "\n",
    "W1 = X2D[:,0]\n",
    "W2 = X2D[:,1]\n",
    "\n",
    "fig, ax = plt.subplots()\n",
    "ax.scatter(W1[np.where(y==0)], W2[np.where(y==0)], c = 'r', alpha =0.5)\n",
    "ax.scatter(W1[np.where(y==1)], W2[np.where(y==1)], c = 'g', alpha =0.5)\n",
    "ax.scatter(W1[np.where(y==2)], W2[np.where(y==2)], c = 'b', alpha =0.5)\n",
    "\n",
    "ax.set_xlabel('PC1')\n",
    "ax.set_ylabel('PC2')"
   ]
  },
  {
   "cell_type": "code",
   "execution_count": null,
   "metadata": {},
   "outputs": [],
   "source": [
    "pca.explained_variance_ratio_"
   ]
  },
  {
   "cell_type": "markdown",
   "metadata": {},
   "source": [
    "The above shows that 92% variance lies in PC1, and 5% lies in PC2, the rest 3 % are in other 2 PC's probably not worth using. Using above logic, the right dimension can be calculated like below:"
   ]
  },
  {
   "cell_type": "code",
   "execution_count": null,
   "metadata": {},
   "outputs": [],
   "source": [
    "pca = PCA()\n",
    "pca.fit(X)\n",
    "cumsum = np.cumsum(pca.explained_variance_ratio_)\n",
    "print(cumsum)\n",
    "d = np.argmax(cumsum >= 0.95) + 1\n",
    "print(d)"
   ]
  },
  {
   "cell_type": "markdown",
   "metadata": {},
   "source": [
    "Another way is to plot a dimention variance ration graph and find the elbow."
   ]
  },
  {
   "cell_type": "code",
   "execution_count": 18,
   "metadata": {},
   "outputs": [
    {
     "data": {
      "text/plain": [
       "[<matplotlib.lines.Line2D at 0x7f03bc5366a0>]"
      ]
     },
     "execution_count": 18,
     "metadata": {},
     "output_type": "execute_result"
    },
    {
     "data": {
      "image/png": "[encoded data removed]",
      "text/plain": [
       "<Figure size 432x288 with 1 Axes>"
      ]
     },
     "metadata": {
      "needs_background": "light"
     },
     "output_type": "display_data"
    }
   ],
   "source": [
    "from scipy import io\n",
    "mnist = io.loadmat('../mnist/mnist-original.mat')\n",
    "X = mnist['data'].T\n",
    "y = mnist['label'].reshape(70000,)\n",
    "\n",
    "pca = PCA()\n",
    "pca.fit(X)\n",
    "cumsum = np.cumsum(pca.explained_variance_ratio_)\n",
    "\n",
    "from matplotlib import pyplot as plt\n",
    "%matplotlib inline\n",
    "\n",
    "fig, ax = plt.subplots()\n",
    "ax.plot(range(0, len(cumsum)), cumsum)"
   ]
  },
  {
   "cell_type": "markdown",
   "metadata": {},
   "source": [
    "## Compression ##\n",
    "\n",
    "The information can be compressed without keeping most of the data. While losing a bit of information, the original can be recontructed, and MSE between original and reconstructed called *reconstruction error*"
   ]
  },
  {
   "cell_type": "code",
   "execution_count": null,
   "metadata": {
    "scrolled": true
   },
   "outputs": [],
   "source": [
    "pca = PCA(n_components=196)\n",
    "X_reduced = pca.fit_transform(X)\n",
    "X_recoverfed = pca.inverse_transform(X_reduced)"
   ]
  },
  {
   "cell_type": "code",
   "execution_count": null,
   "metadata": {},
   "outputs": [],
   "source": [
    "from matplotlib import pyplot as plt\n",
    "from matplotlib import cm\n",
    "%matplotlib inline\n",
    "\n",
    "\n",
    "some_digit = X_recoverfed[36000]\n",
    "some_digit = X[36000]\n",
    "some_digit_img = some_digit.reshape(28, 28)\n",
    "plt.imshow(some_digit_img, cmap = cm.binary, interpolation='nearest')\n",
    "plt.axis('off')\n",
    "plt.show()"
   ]
  }
 ],
 "metadata": {
  "kernelspec": {
   "display_name": "base_sklearn",
   "language": "python",
   "name": "base_sklearn"
  },
  "language_info": {
   "codemirror_mode": {
    "name": "ipython",
    "version": 3
   },
   "file_extension": ".py",
   "mimetype": "text/x-python",
   "name": "python",
   "nbconvert_exporter": "python",
   "pygments_lexer": "ipython3",
   "version": "3.6.9"
  }
 },
 "nbformat": 4,
 "nbformat_minor": 4
}
