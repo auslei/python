{
 "cells": [
  {
   "cell_type": "code",
   "execution_count": 1,
   "metadata": {},
   "outputs": [
    {
     "name": "stderr",
     "output_type": "stream",
     "text": [
      "warning: LF will be replaced by CRLF in 2_DNN_TF/C2_RNN_unstable_gradients.ipynb.\n",
      "The file will have its original line endings in your working directory\n"
     ]
    },
    {
     "name": "stdout",
     "output_type": "stream",
     "text": [
      "[master b97502f] RNN unstable gradients checkin\n",
      " 1 file changed, 661 insertions(+)\n",
      " create mode 100644 2_DNN_TF/C2_RNN_unstable_gradients.ipynb\n"
     ]
    },
    {
     "name": "stderr",
     "output_type": "stream",
     "text": [
      "To https://github.com/auslei/python.git\n",
      "   7796b2f..b97502f  master -> master\n"
     ]
    }
   ],
   "source": [
    "!git add C2_RNN_unstable_gradients.ipynb\n",
    "!git commit -m \"RNN unstable gradients checkin\"\n",
    "!git push"
   ]
  },
  {
   "cell_type": "markdown",
   "metadata": {},
   "source": [
    "## Rcurent Neural Networks - Layer Normalisation\n",
    "\n",
    "RNN suffers from unstable gradient problem. The common non-saturating activation functions may not work and lead to explosive gradient, as the neuron output is also related all previous inputs. Batch normalisation (apply normalisation after output to improve signal) will work only between RNN layers but not within timesteps, this does not improve result much. An alternative normalisation is called *layer normalisation*, which normalising across features rather than batch, which can be effective. Normally used right after the linear combination of inputs and hidden states."
   ]
  },
  {
   "cell_type": "code",
   "execution_count": 24,
   "metadata": {},
   "outputs": [],
   "source": [
    "## generate test data\n",
    "import numpy as np\n",
    "def generate_time_series(batch_size, n_steps):\n",
    "    freq1, freq2, offsets1, offsets2 = np.random.rand(4, batch_size, 1)\n",
    "    time = np.linspace(0, 1, n_steps)\n",
    "    series = 0.5 + np.sin((time - offsets1) * (freq1 * 10 + 10)) # wave 1\n",
    "    series += 0.2 * np.sin((time - offsets2) * (freq2 * 20 + 20)) #wave 2\n",
    "    series += 0.1 * (np.random.rand(batch_size, n_steps) - 0.5)\n",
    "    return series[..., np.newaxis].astype(np.float32)\n",
    "\n",
    "n_steps = 50\n",
    "series = generate_time_series(10000, n_steps + 10) # returns numpy array of [batch_size, timestep, 1] - univariate dataset"
   ]
  },
  {
   "cell_type": "markdown",
   "metadata": {},
   "source": [
    "## Create a custom RNN layer with Layer Normalisation"
   ]
  },
  {
   "cell_type": "code",
   "execution_count": 20,
   "metadata": {},
   "outputs": [],
   "source": [
    "import tensorflow as tf\n",
    "from tensorflow import keras\n",
    "from tensorflow.keras.models import Sequential\n",
    "from tensorflow.keras.layers import RNN, SimpleRNN, Dense\n",
    "\n",
    "class LNSimpleRNNCell(keras.layers.Layer):\n",
    "    def __init__(self, units, activation = \"tanh\", **kwargs):\n",
    "        super().__init__(**kwargs)\n",
    "        self.state_size = units\n",
    "        self.output_size = units\n",
    "        self.simple_rnn_cell = keras.layers.SimpleRNNCell(units, activation = None) # simple RNN cell, without activation\n",
    "        self.layer_norm = keras.layers.LayerNormalization() # normalisation is done before activation\n",
    "        self.activation = keras.activations.get(activation)\n",
    "    \n",
    "    # links everything together\n",
    "    def call(self, inputs, states):  #current inputs and previous hidden states\n",
    "        outputs, new_states = self.simple_rnn_cell(inputs, states)\n",
    "        norm_outputs = self.activation(self.layer_norm(outputs))\n",
    "        return norm_outputs, [norm_outputs] # the return value is output and new hidden states"
   ]
  },
  {
   "cell_type": "markdown",
   "metadata": {},
   "source": [
    "## Train RNN to forcast serveral timesteps ahead\n",
    "\n",
    "### Series to Vector: Passing a series and returns of a vector"
   ]
  },
  {
   "cell_type": "code",
   "execution_count": 23,
   "metadata": {},
   "outputs": [
    {
     "name": "stdout",
     "output_type": "stream",
     "text": [
      "32/32 [==============================] - 0s 7ms/step - loss: 0.0550\n"
     ]
    },
    {
     "data": {
      "text/plain": [
       "0.054988399147987366"
      ]
     },
     "execution_count": 23,
     "metadata": {},
     "output_type": "execute_result"
    }
   ],
   "source": [
    "keras.backend.clear_session()\n",
    "\n",
    "# get series to vector\n",
    "X_train, y_train = series[:7000, :n_steps], series[:7000, -10:, 0]\n",
    "X_valid, y_valid = series[7000:9000, :n_steps], series[7000:9000, -10:, 0]\n",
    "X_test, y_test = series[9000:, :n_steps], series[9000:, -10:, 0]\n",
    "\n",
    "model = Sequential([    \n",
    "    RNN(LNSimpleRNNCell(20), return_sequences = True, input_shape = [None, 1]),\n",
    "    RNN(LNSimpleRNNCell(20)),\n",
    "    Dense(10)\n",
    "])\n",
    "\n",
    "es_cb = keras.callbacks.EarlyStopping(patience=5, min_delta = 1e3)\n",
    "\n",
    "model.compile(loss = 'mse', optimizer = 'adam')\n",
    "history = model.fit(X_train, y_train, callbacks = es_cb, validation_data=(X_valid, y_valid), \n",
    "                     epochs = 30, verbose = False)\n",
    "model.evaluate(X_test, y_test)"
   ]
  },
  {
   "cell_type": "markdown",
   "metadata": {},
   "source": [
    "### Series to Series\n",
    "\n",
    "Instead of returning a vector of the next # of steps, instead we can return the next # steps for each of the timestep. This is called series to series."
   ]
  },
  {
   "cell_type": "code",
   "execution_count": 30,
   "metadata": {},
   "outputs": [],
   "source": [
    "Y = np.empty((10000, n_steps, 10))\n",
    "for step_ahead in range(1, 10 + 1):   # each target is a 10D vector (for each step, get the next 10 steps)\n",
    "    Y[:, :, step_ahead - 1] = series[:, step_ahead : step_ahead + n_steps, 0]  # for each of the 10 targets in y, shift x across 10 steps and take the next 10 value\n",
    "    \n",
    "Y_train = Y[:7000]\n",
    "Y_valid = Y[7000:9000]\n",
    "Y_test = Y[9000:]"
   ]
  },
  {
   "cell_type": "code",
   "execution_count": 32,
   "metadata": {},
   "outputs": [
    {
     "name": "stdout",
     "output_type": "stream",
     "text": [
      "Model: \"sequential\"\n",
      "_________________________________________________________________\n",
      "Layer (type)                 Output Shape              Param #   \n",
      "=================================================================\n",
      "rnn (RNN)                    (None, None, 20)          480       \n",
      "_________________________________________________________________\n",
      "rnn_1 (RNN)                  (None, None, 20)          860       \n",
      "_________________________________________________________________\n",
      "time_distributed (TimeDistri (None, None, 10)          210       \n",
      "=================================================================\n",
      "Total params: 1,550\n",
      "Trainable params: 1,550\n",
      "Non-trainable params: 0\n",
      "_________________________________________________________________\n",
      "32/32 [==============================] - 0s 7ms/step - loss: 0.5171\n"
     ]
    },
    {
     "data": {
      "text/plain": [
       "0.5170970559120178"
      ]
     },
     "execution_count": 32,
     "metadata": {},
     "output_type": "execute_result"
    }
   ],
   "source": [
    "keras.backend.clear_session()\n",
    "\n",
    "model2 = Sequential([\n",
    "    RNN(LNSimpleRNNCell(20), return_sequences = True, input_shape = [None, 1]),\n",
    "    RNN(LNSimpleRNNCell(20), return_sequences = True),\n",
    "    keras.layers.TimeDistributed(keras.layers.Dense(10))\n",
    "])\n",
    "\n",
    "model2.summary()\n",
    "\n",
    "# note as we are predicting next 10 values, only the last set of values are required to calc mse\n",
    "def last_time_step_mse(Y_true, y_pred):\n",
    "    return keras.metrics.mean_squared_error(Y_true[:, -1], y_pred[:, -1])\n",
    "\n",
    "model2.compile(loss = last_time_step_mse, optimizer = 'adam')\n",
    "history = model2.fit(X_train, Y_train, callbacks = es_cb, validation_data=(X_valid, Y_valid), \n",
    "                     epochs = 30, verbose = False)\n",
    "model2.evaluate(X_test, Y_test)"
   ]
  },
  {
   "cell_type": "code",
   "execution_count": 35,
   "metadata": {},
   "outputs": [
    {
     "data": {
      "image/png": "[encoded data removed]",
      "text/plain": [
       "<Figure size 432x288 with 1 Axes>"
      ]
     },
     "metadata": {
      "needs_background": "light"
     },
     "output_type": "display_data"
    }
   ],
   "source": [
    "from matplotlib import pyplot as plt\n",
    "Y_pred = model2.predict(X_test[:1])\n",
    "\n",
    "plt.title(\"Predicted / and first/last predicted step of each timestep\")\n",
    "plt.plot(np.arange(50), X_test[:1].squeeze(), c = 'b', alpha = 0.2)\n",
    "plt.plot(np.arange(60)[-10:], Y_test[:1, -1:, :].squeeze(), c = 'g')\n",
    "plt.plot(np.arange(60)[-10:], Y_pred[:1, -1:, :].squeeze(), c = 'c', linestyle = '--')\n",
    "for i in range(50):\n",
    "    yp = Y_pred[:1, i, :1].squeeze()\n",
    "    yp2 = Y_pred[:1, i, -1:].squeeze()\n",
    "    plt.scatter(i, yp, s = 100, c = 'r', alpha = 0.2)\n",
    "    plt.scatter(i + 10, yp2, s = 100, c = 'c', alpha = 0.2)"
   ]
  },
  {
   "cell_type": "code",
   "execution_count": 183,
   "metadata": {},
   "outputs": [
    {
     "data": {
      "text/plain": [
       "(1, 50, 10)"
      ]
     },
     "execution_count": 183,
     "metadata": {},
     "output_type": "execute_result"
    }
   ],
   "source": [
    "Y_pred.shape # the predicted value therfore is batch_size * time_steps * target_vector_size"
   ]
  },
  {
   "cell_type": "code",
   "execution_count": 194,
   "metadata": {},
   "outputs": [
    {
     "data": {
      "text/plain": [
       "array([[[ 1.49107289,  1.49910104,  1.5283035 ,  1.41031194,\n",
       "          1.19457829,  1.00536525,  0.63221103,  0.3305915 ,\n",
       "          0.02586286, -0.27563879]]])"
      ]
     },
     "execution_count": 194,
     "metadata": {},
     "output_type": "execute_result"
    }
   ],
   "source": [
    "Y_test[:1, -1:, :]"
   ]
  },
  {
   "cell_type": "code",
   "execution_count": null,
   "metadata": {},
   "outputs": [],
   "source": []
  },
  {
   "cell_type": "code",
   "execution_count": null,
   "metadata": {},
   "outputs": [],
   "source": []
  }
 ],
 "metadata": {
  "kernelspec": {
   "display_name": "ml_with_tf",
   "language": "python",
   "name": "ml_with_tf"
  },
  "language_info": {
   "codemirror_mode": {
    "name": "ipython",
    "version": 3
   },
   "file_extension": ".py",
   "mimetype": "text/x-python",
   "name": "python",
   "nbconvert_exporter": "python",
   "pygments_lexer": "ipython3",
   "version": "3.8.6"
  }
 },
 "nbformat": 4,
 "nbformat_minor": 4
}
