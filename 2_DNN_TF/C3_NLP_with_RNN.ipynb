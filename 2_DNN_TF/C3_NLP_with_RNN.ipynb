{
 "cells": [
  {
   "cell_type": "code",
   "execution_count": 1,
   "metadata": {},
   "outputs": [
    {
     "name": "stderr",
     "output_type": "stream",
     "text": [
      "warning: LF will be replaced by CRLF in 2_DNN_TF/C3_NLP_with_RNN.ipynb.\n",
      "The file will have its original line endings in your working directory\n"
     ]
    },
    {
     "name": "stdout",
     "output_type": "stream",
     "text": [
      "[master 6048cc2] NLP with RNN\n",
      " 1 file changed, 174 insertions(+), 20 deletions(-)\n"
     ]
    },
    {
     "name": "stderr",
     "output_type": "stream",
     "text": [
      "To https://github.com/auslei/python.git\n",
      "   9ac814d..6048cc2  master -> master\n"
     ]
    }
   ],
   "source": [
    "!git add C3_NLP_with_RNN.ipynb\n",
    "!git commit -m \"NLP with RNN\"\n",
    "!git push"
   ]
  },
  {
   "cell_type": "markdown",
   "metadata": {},
   "source": [
    "## Creating Training Dataset"
   ]
  },
  {
   "cell_type": "code",
   "execution_count": 1,
   "metadata": {},
   "outputs": [],
   "source": [
    "import tensorflow as tf\n",
    "from tensorflow import keras\n",
    "\n",
    "shakespeare_url = \"https://homl.info/shakespeare\"\n",
    "filepath = keras.utils.get_file(\"shakespeare.txt\", shakespeare_url)\n",
    "\n",
    "with open(filepath) as f:\n",
    "    shakespeare_text = f.read()\n"
   ]
  },
  {
   "cell_type": "code",
   "execution_count": 2,
   "metadata": {},
   "outputs": [],
   "source": [
    "tokenizer = keras.preprocessing.text.Tokenizer(char_level = True)\n",
    "tokenizer.fit_on_texts(shakespeare_text)"
   ]
  },
  {
   "cell_type": "code",
   "execution_count": 3,
   "metadata": {},
   "outputs": [
    {
     "name": "stdout",
     "output_type": "stream",
     "text": [
      "[[3, 7, 6, 8, 1, 6, 8, 1, 5, 1, 3, 2, 8, 3], [5, 22, 19, 13]] ['t h i s   i s   a   t e s t', 'a b c d']\n",
      "39 1115394\n"
     ]
    }
   ],
   "source": [
    "a = tokenizer.texts_to_sequences([\"this is a test\", \"abcd\"])\n",
    "b = tokenizer.sequences_to_texts(a)\n",
    "\n",
    "print(a, b)\n",
    "\n",
    "print(len(tokenizer.word_index), tokenizer.document_count) #num of uniq chars, totol number of docs"
   ]
  },
  {
   "cell_type": "code",
   "execution_count": 4,
   "metadata": {},
   "outputs": [],
   "source": [
    "import numpy as np\n",
    "\n",
    "[encoded] = np.array(tokenizer.texts_to_sequences([shakespeare_text])) - 1 #subtract one to start for 0 index "
   ]
  },
  {
   "cell_type": "code",
   "execution_count": 5,
   "metadata": {},
   "outputs": [
    {
     "data": {
      "text/plain": [
       "(1115394,)"
      ]
     },
     "execution_count": 5,
     "metadata": {},
     "output_type": "execute_result"
    }
   ],
   "source": [
    "encoded.shape"
   ]
  },
  {
   "cell_type": "code",
   "execution_count": 6,
   "metadata": {},
   "outputs": [
    {
     "name": "stdout",
     "output_type": "stream",
     "text": [
      "1003854\n"
     ]
    }
   ],
   "source": [
    "## Set training Dataset\n",
    "\n",
    "train_size = len(encoded) * 90 // 100\n",
    "dataset = tf.data.Dataset.from_tensor_slices(encoded[:train_size])\n",
    "\n",
    "print(train_size)"
   ]
  },
  {
   "cell_type": "code",
   "execution_count": 7,
   "metadata": {},
   "outputs": [],
   "source": [
    "## chopping dataset into mulitple windows\n",
    "n_steps = 100\n",
    "window_length = n_steps + 1 # target = input shifted 1 character ahead (window is 101)\n",
    "dataset = dataset.window(window_length, shift = 1, drop_remainder = True) \n",
    "# by default window is non-overlapping, setting shift to 1 the window will be overlapping. The shift maybe fine tuned\n",
    "# use drop_remainder = True to ensure each window is exactly 101 characters long"
   ]
  },
  {
   "cell_type": "code",
   "execution_count": 8,
   "metadata": {},
   "outputs": [],
   "source": [
    "# window function create nested dataset (each window is a dataset)\n",
    "# we will use flat_map to convert them into a flat dataset (no nesting), batched on each window size\n",
    "dataset = dataset.flat_map(lambda window: window.batch(window_length))"
   ]
  },
  {
   "cell_type": "code",
   "execution_count": 9,
   "metadata": {},
   "outputs": [],
   "source": [
    "batch_size = 32\n",
    "dataset = dataset.shuffle(10000).batch(batch_size) # shuffle with a buffer size of 10000 and batch into minibatches\n",
    "dataset = dataset.map(lambda windows: (windows[:, :-1], windows[:, 1:])) # generate train and targets (0 - 100, 1 - 101)"
   ]
  },
  {
   "cell_type": "code",
   "execution_count": 10,
   "metadata": {},
   "outputs": [],
   "source": [
    "#on hot encode\n",
    "dataset = dataset.map(lambda X_batch, y_batch: (tf.one_hot(X_batch, depth = 39), y_batch))"
   ]
  },
  {
   "cell_type": "code",
   "execution_count": 11,
   "metadata": {},
   "outputs": [
    {
     "name": "stdout",
     "output_type": "stream",
     "text": [
      "(32, 100, 39) (32, 100)\n"
     ]
    }
   ],
   "source": [
    "for d in dataset: print(d[0].shape, d[1].shape);break"
   ]
  },
  {
   "cell_type": "code",
   "execution_count": null,
   "metadata": {},
   "outputs": [
    {
     "name": "stdout",
     "output_type": "stream",
     "text": [
      "Epoch 1/20\n",
      "31368/31368 [==============================] - 563s 18ms/step - loss: 1.7204\n",
      "Epoch 2/20\n",
      "31368/31368 [==============================] - 560s 18ms/step - loss: 1.5470\n",
      "Epoch 3/20\n",
      "31368/31368 [==============================] - 559s 18ms/step - loss: 1.5199\n",
      "Epoch 4/20\n",
      "31368/31368 [==============================] - 557s 18ms/step - loss: 1.5053\n",
      "Epoch 5/20\n",
      " 8882/31368 [=======>......................] - ETA: 6:38 - loss: 1.5201"
     ]
    }
   ],
   "source": [
    "cp_cb = keras.callbacks.ModelCheckpoint(\"shakespeare.h5\", save_best_only=True)\n",
    "\n",
    "\n",
    "model = keras.models.Sequential([\n",
    "    keras.layers.GRU(128, return_sequences = True, input_shape = [None, 39], dropout = 0.2, recurrent_dropout = 0),\n",
    "    keras.layers.GRU(128, return_sequences = True, input_shape = [None, 39], dropout = 0.2, recurrent_dropout = 0),\n",
    "    keras.layers.TimeDistributed(keras.layers.Dense(39, activation = 'softmax'))\n",
    "])\n",
    "\n",
    "model.compile(loss = 'sparse_categorical_crossentropy', optimizer = 'adam')\n",
    "history = model.fit(dataset, epochs = 20)"
   ]
  },
  {
   "cell_type": "markdown",
   "metadata": {},
   "source": [
    "The requirements to use the cuDNN implementation are:\n",
    "\n",
    "1. activation == tanh\n",
    "2. recurrent_activation == sigmoid\n",
    "3. recurrent_dropout == 0\n",
    "4. unroll is False\n",
    "5. use_bias is True\n",
    "6. reset_after is True\n",
    "7. Inputs, if use masking, are strictly right-padded.\n",
    "8. Eager execution is enabled in the outermost context."
   ]
  },
  {
   "cell_type": "code",
   "execution_count": null,
   "metadata": {},
   "outputs": [],
   "source": [
    "model.save('shakespeare.h5')"
   ]
  },
  {
   "cell_type": "markdown",
   "metadata": {},
   "source": [
    "## using the Char-RNN model"
   ]
  },
  {
   "cell_type": "code",
   "execution_count": null,
   "metadata": {},
   "outputs": [],
   "source": [
    " "
   ]
  }
 ],
 "metadata": {
  "kernelspec": {
   "display_name": "ml_with_tf",
   "language": "python",
   "name": "ml_with_tf"
  },
  "language_info": {
   "codemirror_mode": {
    "name": "ipython",
    "version": 3
   },
   "file_extension": ".py",
   "mimetype": "text/x-python",
   "name": "python",
   "nbconvert_exporter": "python",
   "pygments_lexer": "ipython3",
   "version": "3.8.6"
  }
 },
 "nbformat": 4,
 "nbformat_minor": 4
}
