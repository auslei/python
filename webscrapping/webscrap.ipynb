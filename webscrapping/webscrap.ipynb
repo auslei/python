{
 "cells": [
  {
   "cell_type": "code",
   "execution_count": 6,
   "metadata": {
    "Collapsed": "false"
   },
   "outputs": [],
   "source": [
    "import get_news\n",
    "import pandas as pd"
   ]
  },
  {
   "cell_type": "code",
   "execution_count": 7,
   "metadata": {
    "Collapsed": "false"
   },
   "outputs": [],
   "source": [
    "new_path = './news_20191220.pkl'\n",
    "#df = get_news.incrental_load('./news_20191220.pkl')\n",
    "\n",
    "# Incrementally loading data\n",
    "df = pd.read_pickle(new_path)"
   ]
  },
  {
   "cell_type": "code",
   "execution_count": 10,
   "metadata": {},
   "outputs": [
    {
     "data": {
      "text/html": [
       "<div>\n",
       "<style scoped>\n",
       "    .dataframe tbody tr th:only-of-type {\n",
       "        vertical-align: middle;\n",
       "    }\n",
       "\n",
       "    .dataframe tbody tr th {\n",
       "        vertical-align: top;\n",
       "    }\n",
       "\n",
       "    .dataframe thead th {\n",
       "        text-align: right;\n",
       "    }\n",
       "</style>\n",
       "<table border=\"1\" class=\"dataframe\">\n",
       "  <thead>\n",
       "    <tr style=\"text-align: right;\">\n",
       "      <th></th>\n",
       "      <th>timestamp</th>\n",
       "      <th>headline</th>\n",
       "      <th>link</th>\n",
       "      <th>content</th>\n",
       "    </tr>\n",
       "  </thead>\n",
       "  <tbody>\n",
       "    <tr>\n",
       "      <th>0</th>\n",
       "      <td>Last updated December 20, 2019 19:38:56 AEDT</td>\n",
       "      <td>‘ABSOLUTELY PETRIFIED’: Drug dealer sobs as he...</td>\n",
       "      <td>https://www.news.com.au/national/courts-law/te...</td>\n",
       "      <td>A terrified drug dealer has sobbed and called ...</td>\n",
       "    </tr>\n",
       "    <tr>\n",
       "      <th>1</th>\n",
       "      <td>Last updated December 20, 2019 19:38:57 AEDT</td>\n",
       "      <td>'Do you even care?' Firey blasts ScoMo</td>\n",
       "      <td>https://www.news.com.au/technology/environment...</td>\n",
       "      <td>A fire station officer has posted an emotional...</td>\n",
       "    </tr>\n",
       "    <tr>\n",
       "      <th>2</th>\n",
       "      <td>Last updated December 20, 2019 19:38:58 AEDT</td>\n",
       "      <td>Roads melting in extreme heat</td>\n",
       "      <td>https://www.news.com.au/technology/environment...</td>\n",
       "      <td>Roads in parts of South Australia are “bleedin...</td>\n",
       "    </tr>\n",
       "    <tr>\n",
       "      <th>3</th>\n",
       "      <td>Last updated December 20, 2019 19:38:58 AEDT</td>\n",
       "      <td>‘Grossly immoral’: Christians lash Trump</td>\n",
       "      <td>https://www.news.com.au/finance/work/leaders/u...</td>\n",
       "      <td>A major Christian magazine has turned against ...</td>\n",
       "    </tr>\n",
       "    <tr>\n",
       "      <th>4</th>\n",
       "      <td>Last updated December 20, 2019 19:38:58 AEDT</td>\n",
       "      <td>‘This is ridiculous’: Teen’s freakish act</td>\n",
       "      <td>https://www.news.com.au/sport/cricket/big-bash...</td>\n",
       "      <td>The Hobart Hurricanes looked like they were st...</td>\n",
       "    </tr>\n",
       "  </tbody>\n",
       "</table>\n",
       "</div>"
      ],
      "text/plain": [
       "                                      timestamp  \\\n",
       "0  Last updated December 20, 2019 19:38:56 AEDT   \n",
       "1  Last updated December 20, 2019 19:38:57 AEDT   \n",
       "2  Last updated December 20, 2019 19:38:58 AEDT   \n",
       "3  Last updated December 20, 2019 19:38:58 AEDT   \n",
       "4  Last updated December 20, 2019 19:38:58 AEDT   \n",
       "\n",
       "                                            headline  \\\n",
       "0  ‘ABSOLUTELY PETRIFIED’: Drug dealer sobs as he...   \n",
       "1             'Do you even care?' Firey blasts ScoMo   \n",
       "2                      Roads melting in extreme heat   \n",
       "3           ‘Grossly immoral’: Christians lash Trump   \n",
       "4          ‘This is ridiculous’: Teen’s freakish act   \n",
       "\n",
       "                                                link  \\\n",
       "0  https://www.news.com.au/national/courts-law/te...   \n",
       "1  https://www.news.com.au/technology/environment...   \n",
       "2  https://www.news.com.au/technology/environment...   \n",
       "3  https://www.news.com.au/finance/work/leaders/u...   \n",
       "4  https://www.news.com.au/sport/cricket/big-bash...   \n",
       "\n",
       "                                             content  \n",
       "0  A terrified drug dealer has sobbed and called ...  \n",
       "1  A fire station officer has posted an emotional...  \n",
       "2  Roads in parts of South Australia are “bleedin...  \n",
       "3  A major Christian magazine has turned against ...  \n",
       "4  The Hobart Hurricanes looked like they were st...  "
      ]
     },
     "execution_count": 10,
     "metadata": {},
     "output_type": "execute_result"
    }
   ],
   "source": [
    "df.head()"
   ]
  },
  {
   "cell_type": "code",
   "execution_count": null,
   "metadata": {
    "Collapsed": "false"
   },
   "outputs": [],
   "source": [
    "\n",
    "#%%\n",
    "#df = read_news(_base_url)\n",
    "import nltk\n",
    "import re\n",
    "from nltk.tokenize import punkt\n",
    "from nltk.stem import SnowballStemmer\n",
    "from nltk.stem import PorterStemmer\n",
    "from nltk.corpus import stopwords\n",
    "from nltk.tokenize import word_tokenize\n",
    "from collections import Counter\n",
    "\n",
    "sample = df.sample(1).content.iloc[0]\n",
    "keep = re.compile('[a-zA-Z]')\n",
    "\n",
    "ps = PorterStemmer()\n",
    "\n",
    "def stem_tokenise(corpus):\n",
    "    stop_words = set(stopwords.words('english'))\n",
    "    return [ps.stem(w.lower()) for w in word_tokenize(corpus) if w.lower() not in stop_words and re.match(keep, w) ]\n",
    "\n",
    "\n",
    "#%% TF / IDF\n",
    "\n",
    "# TF is the number of terms for this word in this document\n",
    "# IDF is the log of the number of document D over number of document contains the term\n",
    "# TFIDF = TF * IDF\n",
    "\n",
    "def tf_idf(document, documents):\n",
    "\n",
    "\n",
    "#%%\n",
    "\n",
    "words = stem_tokenise(df.iloc[0].content)\n",
    "c = Counter(words)\n",
    "c.most_common(10)\n",
    "\n",
    "from wordcloud import WordCloud\n",
    "\n",
    "wc = WordCloud(stopwords=stop_words, background_color=\"white\", colormap=\"Dark2\",\n",
    "               max_font_size=150, random_state=42)\n",
    "# %%\n"
   ]
  }
 ],
 "metadata": {
  "kernelspec": {
   "display_name": "webscrape",
   "language": "python",
   "name": "webscrape"
  },
  "language_info": {
   "codemirror_mode": {
    "name": "ipython",
    "version": 3
   },
   "file_extension": ".py",
   "mimetype": "text/x-python",
   "name": "python",
   "nbconvert_exporter": "python",
   "pygments_lexer": "ipython3",
   "version": "3.7.2"
  }
 },
 "nbformat": 4,
 "nbformat_minor": 4
}
