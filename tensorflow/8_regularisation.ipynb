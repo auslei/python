{
 "cells": [
  {
   "cell_type": "markdown",
   "metadata": {},
   "source": [
    "## Regularisation \n",
    "\n",
    "This is to reduce overfit. \n",
    "\n",
    "### l1 and l2 regularisation\n",
    "This is the same as linear models. l2 to constrain connecting weights (recall it is sum of the weights squared with a coefficient alpha). Use l1 If you want a sparse model (many connecting weights to be 0), recall that l1 regularisation tends to make the weights of less important features to 0.\n"
   ]
  },
  {
   "cell_type": "code",
   "execution_count": 2,
   "metadata": {},
   "outputs": [
    {
     "name": "stdout",
     "output_type": "stream",
     "text": [
      "(45000, 28, 28) (45000,)\n"
     ]
    }
   ],
   "source": [
    "from tensorflow import keras\n",
    "from sklearn.model_selection import train_test_split\n",
    "\n",
    "fashion_mnist = keras.datasets.fashion_mnist\n",
    "(X_train_full, y_train_full), (X_test, y_test) = fashion_mnist.load_data()\n",
    "\n",
    "X_train, X_valid, y_train,  y_valid = train_test_split(X_train_full, y_train_full, test_size = 0.25)\n",
    "\n",
    "print(X_train.shape, y_train.shape)"
   ]
  },
  {
   "cell_type": "code",
   "execution_count": 3,
   "metadata": {},
   "outputs": [
    {
     "data": {
      "text/plain": [
       "<matplotlib.image.AxesImage at 0x1e0a00fc4c0>"
      ]
     },
     "execution_count": 3,
     "metadata": {},
     "output_type": "execute_result"
    },
    {
     "data": {
      "image/png": "[encoded data removed]",
      "text/plain": [
       "<Figure size 432x288 with 4 Axes>"
      ]
     },
     "metadata": {
      "needs_background": "light"
     },
     "output_type": "display_data"
    }
   ],
   "source": [
    "from matplotlib import pyplot as plt\n",
    "\n",
    "fig, ax = plt.subplots(2, 2)\n",
    "ax[0][0].imshow(X_train[0])\n",
    "ax[0][1].imshow(X_train[1])\n",
    "ax[1][0].imshow(X_train[2])\n",
    "ax[1][1].imshow(X_train[3])"
   ]
  },
  {
   "cell_type": "code",
   "execution_count": 16,
   "metadata": {},
   "outputs": [],
   "source": [
    "from tensorflow.keras import activations, layers, initializers, callbacks, models\n",
    "from tensorflow.keras.layers import Flatten, Dense, LeakyReLU, BatchNormalization, ReLU, ELU, Dropout\n",
    "from tensorflow.keras.models import Sequential\n",
    "from tensorflow.keras.callbacks import EarlyStopping, ModelCheckpoint, TensorBoard, LearningRateScheduler\n",
    "from tensorflow.keras.optimizers import SGD, Adagrad, RMSprop, Adam, Nadam, Adamax\n",
    "from tensorflow import keras\n",
    "\n",
    "# regularisers\n",
    "# l1 tends to generate sparse models (mostly zeros), which saves memory and will run very fast at runtime\n",
    "from tensorflow.keras.regularizers import l1, l2, l1_l2\n",
    "\n",
    "es_cb = EarlyStopping(patience=3, monitor='val_loss') # early stopping at min loss\n",
    "md_cb = ModelCheckpoint(\"f_mnist_model_A.h5\", save_best_only=True) # setup a model check point"
   ]
  },
  {
   "cell_type": "markdown",
   "metadata": {},
   "source": [
    "## Refactor layers using partial functions\n",
    "\n",
    "As when we generate a ANN, we typically will use same activation, initialisers and regularisers. It makes sesne for us to reduce code clutter and improve readability by refactor it. "
   ]
  },
  {
   "cell_type": "code",
   "execution_count": 15,
   "metadata": {},
   "outputs": [],
   "source": [
    "from functools import partial\n",
    "\n",
    "NomralDense = partial(Dense, activation = 'selu', \n",
    "                           kernel_initializer = keras.initializers.LecunNormal())\n",
    "\n",
    "RegularisedDense1 = partial(Dense, activation = 'selu', \n",
    "                           kernel_initializer = keras.initializers.LecunNormal(), \n",
    "                           kernel_regularizer = l1(0.01))\n",
    "\n",
    "RegularisedDense2 = partial(Dense, activation = 'selu', \n",
    "                           kernel_initializer = keras.initializers.LecunNormal(), \n",
    "                           kernel_regularizer = l2(0.01))\n"
   ]
  },
  {
   "cell_type": "markdown",
   "metadata": {},
   "source": [
    "## Dropouts\n",
    "\n",
    "*Dropout* is one of the most popular regularisation methods for deep neural networks. typically getting a 1-2% accuracy boost simply by add dropouts (consider if DNN is 95%) 1-2% of that is easily 20-30% imporovement.\n",
    "\n",
    "At every training step, every neual (including the iutput neurons, excluding output neurons) has a probability *p* of being temorarily dropped out. (entirely ignored in the training for **this step**)\n",
    "\n",
    "*p* is called the *drop rate* and typically set between 10% and 50%:\n",
    "- ~20-30% in recurrent neural networks\n",
    "- ~40-50% in convolutional neural networks.\n",
    "\n",
    "After training, neuron is no longer being dropped.\n",
    "\n",
    "As the input neurons can are dropped by *p*, when after training we need to compensate their weights by the *keep probability* (1-*p*)"
   ]
  },
  {
   "cell_type": "code",
   "execution_count": 17,
   "metadata": {},
   "outputs": [
    {
     "name": "stdout",
     "output_type": "stream",
     "text": [
      "313/313 [==============================] - 0s 1ms/step - loss: 0.3778 - accuracy: 0.8756\n",
      "[0.37775880098342896, 0.8755999803543091]\n",
      "313/313 [==============================] - 0s 1ms/step - loss: 0.3723 - accuracy: 0.8740\n",
      "[0.37228235602378845, 0.8740000128746033]\n",
      "313/313 [==============================] - 0s 1ms/step - loss: 1.3362 - accuracy: 0.8018\n",
      "[1.3361895084381104, 0.801800012588501]\n",
      "313/313 [==============================] - 0s 1ms/step - loss: 0.5679 - accuracy: 0.8277\n",
      "[0.5678825974464417, 0.8277000188827515]\n"
     ]
    }
   ],
   "source": [
    "model_normal = Sequential([\n",
    "    Flatten(input_shape=[28, 28]),\n",
    "    BatchNormalization(),\n",
    "    NomralDense(300),\n",
    "    BatchNormalization(),\n",
    "    NomralDense(300),\n",
    "    BatchNormalization(),\n",
    "    NomralDense(300),\n",
    "    BatchNormalization(),\n",
    "    NomralDense(300),\n",
    "    BatchNormalization(),\n",
    "    Dense(10, activation = \"softmax\")\n",
    "])\n",
    "\n",
    "model_normal_drop_out = Sequential([\n",
    "    Flatten(input_shape=[28, 28]),\n",
    "    Dropout(rate = 0.2),\n",
    "    BatchNormalization(),\n",
    "    NomralDense(300),\n",
    "    Dropout(rate = 0.2),\n",
    "    BatchNormalization(),\n",
    "    NomralDense(300),\n",
    "    Dropout(rate = 0.2),\n",
    "    BatchNormalization(),\n",
    "    NomralDense(300),\n",
    "    Dropout(rate = 0.2),\n",
    "    BatchNormalization(),\n",
    "    NomralDense(300),\n",
    "    Dropout(rate = 0.2),\n",
    "    BatchNormalization(),\n",
    "    Dense(10, activation = \"softmax\")\n",
    "])\n",
    "\n",
    "\n",
    "model_l1 = Sequential([\n",
    "    Flatten(input_shape=[28, 28]),\n",
    "    BatchNormalization(),\n",
    "    RegularisedDense1(300),\n",
    "    BatchNormalization(),\n",
    "    RegularisedDense1(300),\n",
    "    BatchNormalization(),\n",
    "    RegularisedDense1(300),\n",
    "    BatchNormalization(),\n",
    "    RegularisedDense1(300),\n",
    "    BatchNormalization(),\n",
    "    Dense(10, activation = \"softmax\")\n",
    "])\n",
    "\n",
    "\n",
    "model_l2 = Sequential([\n",
    "    Flatten(input_shape=[28, 28]),\n",
    "    BatchNormalization(),\n",
    "    RegularisedDense2(300),\n",
    "    BatchNormalization(),\n",
    "    RegularisedDense2(300),\n",
    "    BatchNormalization(),\n",
    "    RegularisedDense2(300),\n",
    "    BatchNormalization(),\n",
    "    RegularisedDense2(300),\n",
    "    BatchNormalization(),\n",
    "    Dense(10, activation = \"softmax\")\n",
    "])\n",
    "\n",
    "NUM_EPOCHS = 20\n",
    "\n",
    "models = [model_normal, model_normal_drop_out, model_l1, model_l2]\n",
    "hist = []\n",
    "\n",
    "\n",
    "for m in models:\n",
    "    m.compile(optimizer =  \"adam\", loss = \"sparse_categorical_crossentropy\", metrics = \"accuracy\")\n",
    "    history = m.fit(X_train, y_train, epochs=NUM_EPOCHS, validation_data = (X_valid, y_valid), callbacks = [es_cb],\n",
    "                        verbose = False)\n",
    "    hist.append(history)\n",
    "    print(m.evaluate(X_test, y_test))"
   ]
  },
  {
   "cell_type": "code",
   "execution_count": 26,
   "metadata": {},
   "outputs": [
    {
     "data": {
      "image/png": "[encoded data removed]",
      "text/plain": [
       "<Figure size 1440x720 with 1 Axes>"
      ]
     },
     "metadata": {
      "needs_background": "light"
     },
     "output_type": "display_data"
    }
   ],
   "source": [
    "### Note that for drops the validation loss can be misleading as \n",
    "###the dropout is only active during the training phase\n",
    "\n",
    "from matplotlib import pyplot as plt\n",
    "import pandas as pd\n",
    "import numpy as np\n",
    "from matplotlib import cm\n",
    "fig, ax = plt.subplots()\n",
    "fig.set_size_inches(20, 10)\n",
    "\n",
    "\n",
    "colors = cm.jet(np.linspace(0, 1, 6))\n",
    "x1 = range(len(hist[0].history['val_loss']))\n",
    "x2 = range(len(hist[1].history['val_loss']))\n",
    "x3 = range(len(hist[2].history['val_loss']))\n",
    "x4 = range(len(hist[3].history['val_loss']))\n",
    "\n",
    "ax.plot(x1, hist[0].history['val_loss'], color = colors[0], label = \"model_normal\")\n",
    "ax.plot(x2, hist[1].history['val_loss'], color = colors[1], label = \"model_normal_drop_out\")\n",
    "ax.plot(x3, hist[2].history['val_loss'], color = colors[2], label = \"model_l1\")\n",
    "ax.plot(x4, hist[3].history['val_loss'], color = colors[3], label = \"model_l2\")\n",
    "\n",
    "\n",
    "ax.legend()\n",
    "plt.show()"
   ]
  },
  {
   "cell_type": "code",
   "execution_count": 21,
   "metadata": {},
   "outputs": [
    {
     "data": {
      "text/plain": [
       "{'loss': [0.5533322691917419,\n",
       "  0.4258555471897125,\n",
       "  0.3778979480266571,\n",
       "  0.34806951880455017,\n",
       "  0.3269388973712921,\n",
       "  0.3099178671836853,\n",
       "  0.28925013542175293],\n",
       " 'accuracy': [0.8048444390296936,\n",
       "  0.8466222286224365,\n",
       "  0.8613333106040955,\n",
       "  0.8722444176673889,\n",
       "  0.8795777559280396,\n",
       "  0.8835999965667725,\n",
       "  0.8923777937889099],\n",
       " 'val_loss': [0.4092400074005127,\n",
       "  0.3989560604095459,\n",
       "  0.35048148036003113,\n",
       "  0.34557631611824036,\n",
       "  0.3588271737098694,\n",
       "  0.347526878118515,\n",
       "  0.3473488688468933],\n",
       " 'val_accuracy': [0.8511999845504761,\n",
       "  0.859333336353302,\n",
       "  0.8742666840553284,\n",
       "  0.8760666847229004,\n",
       "  0.8726000189781189,\n",
       "  0.8785333037376404,\n",
       "  0.8820666670799255]}"
      ]
     },
     "execution_count": 21,
     "metadata": {},
     "output_type": "execute_result"
    }
   ],
   "source": [
    "hist[0].history"
   ]
  },
  {
   "cell_type": "markdown",
   "metadata": {},
   "source": [
    "### Version Control"
   ]
  },
  {
   "cell_type": "code",
   "execution_count": 14,
   "metadata": {},
   "outputs": [
    {
     "name": "stderr",
     "output_type": "stream",
     "text": [
      "warning: LF will be replaced by CRLF in tensorflow/8_regularisation.ipynb.\n",
      "The file will have its original line endings in your working directory\n"
     ]
    },
    {
     "name": "stdout",
     "output_type": "stream",
     "text": [
      "[master 9634d9a] added regularisation\n",
      " 1 file changed, 318 insertions(+), 291 deletions(-)\n",
      " rewrite tensorflow/8_regularisation.ipynb (74%)\n"
     ]
    },
    {
     "name": "stderr",
     "output_type": "stream",
     "text": [
      "To https://github.com/auslei/python.git\n",
      "   4430f95..9634d9a  master -> master\n"
     ]
    }
   ],
   "source": [
    "!git add 8_regularisation.ipynb\n",
    "!git commit -m \"added regularisation\"\n",
    "!git push"
   ]
  },
  {
   "cell_type": "code",
   "execution_count": null,
   "metadata": {},
   "outputs": [],
   "source": []
  },
  {
   "cell_type": "code",
   "execution_count": null,
   "metadata": {},
   "outputs": [],
   "source": []
  }
 ],
 "metadata": {
  "kernelspec": {
   "display_name": "ml_with_tf",
   "language": "python",
   "name": "ml_with_tf"
  },
  "language_info": {
   "codemirror_mode": {
    "name": "ipython",
    "version": 3
   },
   "file_extension": ".py",
   "mimetype": "text/x-python",
   "name": "python",
   "nbconvert_exporter": "python",
   "pygments_lexer": "ipython3",
   "version": "3.8.6"
  }
 },
 "nbformat": 4,
 "nbformat_minor": 4
}
