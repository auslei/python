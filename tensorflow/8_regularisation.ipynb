{
 "cells": [
  {
   "cell_type": "markdown",
   "metadata": {},
   "source": [
    "## Regularisation \n",
    "\n",
    "This is to reduce overfit. \n",
    "\n",
    "### l1 and l2 regularisation\n",
    "This is the same as linear models. l2 to constrain connecting weights (recall it is sum of the weights squared with a coefficient alpha). Use l1 If you want a sparse model (many connecting weights to be 0), recall that l1 regularisation tends to make the weights of less important features to 0.\n"
   ]
  },
  {
   "cell_type": "code",
   "execution_count": 2,
   "metadata": {},
   "outputs": [
    {
     "name": "stdout",
     "output_type": "stream",
     "text": [
      "(45000, 28, 28) (45000,)\n"
     ]
    }
   ],
   "source": [
    "from tensorflow import keras\n",
    "from sklearn.model_selection import train_test_split\n",
    "\n",
    "fashion_mnist = keras.datasets.fashion_mnist\n",
    "(X_train_full, y_train_full), (X_test, y_test) = fashion_mnist.load_data()\n",
    "\n",
    "X_train, X_valid, y_train,  y_valid = train_test_split(X_train_full, y_train_full, test_size = 0.25)\n",
    "\n",
    "print(X_train.shape, y_train.shape)"
   ]
  },
  {
   "cell_type": "code",
   "execution_count": 3,
   "metadata": {},
   "outputs": [
    {
     "data": {
      "text/plain": [
       "<matplotlib.image.AxesImage at 0x1e0a00fc4c0>"
      ]
     },
     "execution_count": 3,
     "metadata": {},
     "output_type": "execute_result"
    },
    {
     "data": {
      "image/png": "[encoded data removed]",
      "text/plain": [
       "<Figure size 432x288 with 4 Axes>"
      ]
     },
     "metadata": {
      "needs_background": "light"
     },
     "output_type": "display_data"
    }
   ],
   "source": [
    "from matplotlib import pyplot as plt\n",
    "\n",
    "fig, ax = plt.subplots(2, 2)\n",
    "ax[0][0].imshow(X_train[0])\n",
    "ax[0][1].imshow(X_train[1])\n",
    "ax[1][0].imshow(X_train[2])\n",
    "ax[1][1].imshow(X_train[3])"
   ]
  },
  {
   "cell_type": "code",
   "execution_count": 8,
   "metadata": {},
   "outputs": [],
   "source": [
    "from tensorflow.keras import activations, layers, initializers, callbacks, models\n",
    "from tensorflow.keras.layers import Flatten, Dense, LeakyReLU, BatchNormalization, ReLU, ELU\n",
    "from tensorflow.keras.models import Sequential\n",
    "from tensorflow.keras.callbacks import EarlyStopping, ModelCheckpoint, TensorBoard, LearningRateScheduler\n",
    "from tensorflow.keras.optimizers import SGD, Adagrad, RMSprop, Adam, Nadam, Adamax\n",
    "from tensorflow import keras\n",
    "\n",
    "# regularisers\n",
    "# l1 tends to generate sparse models (mostly zeros), which saves memory and will run very fast at runtime\n",
    "from tensorflow.keras.regularizers import l1, l2, l1_l2\n",
    "\n",
    "es_cb = EarlyStopping(patience=3, monitor='val_loss') # early stopping at min loss\n",
    "md_cb = ModelCheckpoint(\"f_mnist_model_A.h5\", save_best_only=True) # setup a model check point"
   ]
  },
  {
   "cell_type": "markdown",
   "metadata": {},
   "source": [
    "## Refactor layers using partial functions\n",
    "\n",
    "As when we generate a ANN, we typically will use same activation, initialisers and regularisers. It makes sesne for us to reduce code clutter and improve readability by refactor it. "
   ]
  },
  {
   "cell_type": "code",
   "execution_count": 11,
   "metadata": {},
   "outputs": [],
   "source": [
    "from functools import partial\n",
    "\n",
    "RegularisedDense = partial(Dense, activation = 'selu', \n",
    "                           kernel_initializer = keras.initializers.LecunNormal(), \n",
    "                           kernel_regularizer = l2(0.01))\n"
   ]
  },
  {
   "cell_type": "code",
   "execution_count": 13,
   "metadata": {},
   "outputs": [
    {
     "name": "stdout",
     "output_type": "stream",
     "text": [
      "Epoch 1/20\n",
      "1407/1407 [==============================] - 6s 4ms/step - loss: 2.3320 - accuracy: 0.7514 - val_loss: 1.0504 - val_accuracy: 0.7098\n",
      "Epoch 2/20\n",
      "1407/1407 [==============================] - 5s 3ms/step - loss: 0.9372 - accuracy: 0.7668 - val_loss: 0.9244 - val_accuracy: 0.7735\n",
      "Epoch 3/20\n",
      "1407/1407 [==============================] - 5s 3ms/step - loss: 0.8615 - accuracy: 0.7869 - val_loss: 0.7561 - val_accuracy: 0.8120\n",
      "Epoch 4/20\n",
      "1407/1407 [==============================] - 5s 3ms/step - loss: 0.7996 - accuracy: 0.7968 - val_loss: 0.7079 - val_accuracy: 0.8245\n",
      "Epoch 5/20\n",
      "1407/1407 [==============================] - 4s 3ms/step - loss: 0.7252 - accuracy: 0.8103 - val_loss: 0.6632 - val_accuracy: 0.8214\n",
      "Epoch 6/20\n",
      "1407/1407 [==============================] - 4s 3ms/step - loss: 0.6887 - accuracy: 0.8168 - val_loss: 0.6188 - val_accuracy: 0.8331\n",
      "Epoch 7/20\n",
      "1407/1407 [==============================] - 4s 3ms/step - loss: 0.6583 - accuracy: 0.8193 - val_loss: 0.5810 - val_accuracy: 0.8433\n",
      "Epoch 8/20\n",
      "1407/1407 [==============================] - 4s 3ms/step - loss: 0.6292 - accuracy: 0.8252 - val_loss: 0.6780 - val_accuracy: 0.8073\n",
      "Epoch 9/20\n",
      "1407/1407 [==============================] - 4s 3ms/step - loss: 0.6146 - accuracy: 0.8252 - val_loss: 0.6219 - val_accuracy: 0.8211\n",
      "Epoch 10/20\n",
      "1407/1407 [==============================] - 4s 3ms/step - loss: 0.5944 - accuracy: 0.8301 - val_loss: 0.5535 - val_accuracy: 0.8441\n",
      "Epoch 11/20\n",
      "1407/1407 [==============================] - 5s 3ms/step - loss: 0.5832 - accuracy: 0.8311 - val_loss: 0.5444 - val_accuracy: 0.8414\n",
      "Epoch 12/20\n",
      "1407/1407 [==============================] - 4s 3ms/step - loss: 0.5679 - accuracy: 0.8346 - val_loss: 0.5686 - val_accuracy: 0.8285\n",
      "Epoch 13/20\n",
      "1407/1407 [==============================] - 4s 3ms/step - loss: 0.5662 - accuracy: 0.8335 - val_loss: 0.5435 - val_accuracy: 0.8401\n",
      "Epoch 14/20\n",
      "1407/1407 [==============================] - 4s 3ms/step - loss: 0.5640 - accuracy: 0.8341 - val_loss: 0.6074 - val_accuracy: 0.8231\n",
      "Epoch 15/20\n",
      "1407/1407 [==============================] - 4s 3ms/step - loss: 0.5491 - accuracy: 0.8374 - val_loss: 0.5279 - val_accuracy: 0.8472\n",
      "Epoch 16/20\n",
      "1407/1407 [==============================] - 4s 3ms/step - loss: 0.5439 - accuracy: 0.8378 - val_loss: 0.5252 - val_accuracy: 0.8441\n",
      "Epoch 17/20\n",
      "1407/1407 [==============================] - 4s 3ms/step - loss: 0.5459 - accuracy: 0.8388 - val_loss: 0.5048 - val_accuracy: 0.8511\n",
      "Epoch 18/20\n",
      "1407/1407 [==============================] - 5s 3ms/step - loss: 0.5384 - accuracy: 0.8377 - val_loss: 0.5051 - val_accuracy: 0.8504\n",
      "Epoch 19/20\n",
      "1407/1407 [==============================] - 5s 3ms/step - loss: 0.5341 - accuracy: 0.8406 - val_loss: 0.5674 - val_accuracy: 0.8309\n",
      "Epoch 20/20\n",
      "1407/1407 [==============================] - 4s 3ms/step - loss: 0.5331 - accuracy: 0.8414 - val_loss: 0.5088 - val_accuracy: 0.8511\n",
      "313/313 [==============================] - 0s 1ms/step - loss: 0.5316 - accuracy: 0.8425\n",
      "[0.5315779447555542, 0.8424999713897705]\n"
     ]
    }
   ],
   "source": [
    "keras.backend.clear_session()    \n",
    "initializer = keras.initializers.LecunNormal()\n",
    "\n",
    "# instead of below\n",
    "\"\"\"\n",
    "model = Sequential([\n",
    "    Flatten(input_shape=[28, 28]),\n",
    "    BatchNormalization(),\n",
    "    Dense(300, activation = \"selu\", kernel_initializer = initializer),\n",
    "    BatchNormalization(),\n",
    "    Dense(300, activation = \"selu\", kernel_initializer = initializer),\n",
    "    BatchNormalization(),\n",
    "    Dense(300, activation = \"selu\", kernel_initializer = initializer),\n",
    "    BatchNormalization(),\n",
    "    Dense(300, activation = \"selu\", kernel_initializer = initializer),\n",
    "    BatchNormalization(),\n",
    "    Dense(300, activation = \"selu\", kernel_initializer = initializer),\n",
    "    BatchNormalization(),\n",
    "    Dense(10, activation = \"softmax\")\n",
    "])\n",
    "\"\"\"\n",
    "\n",
    "\n",
    "model = Sequential([\n",
    "    Flatten(input_shape=[28, 28]),\n",
    "    BatchNormalization(),\n",
    "    RegularisedDense(300),\n",
    "    BatchNormalization(),\n",
    "    RegularisedDense(300),\n",
    "    BatchNormalization(),\n",
    "    RegularisedDense(300),\n",
    "    BatchNormalization(),\n",
    "    RegularisedDense(300),\n",
    "    BatchNormalization(),\n",
    "    Dense(10, activation = \"softmax\")\n",
    "])\n",
    "\n",
    "NUM_EPOCHS = 20\n",
    "\n",
    "model.compile(optimizer =  \"adam\", loss = \"sparse_categorical_crossentropy\", metrics = \"accuracy\")\n",
    "history = model.fit(X_train, y_train, epochs=NUM_EPOCHS, validation_data = (X_valid, y_valid), callbacks = [es_cb],\n",
    "                    verbose = True)\n",
    "print(model.evaluate(X_test, y_test))"
   ]
  },
  {
   "cell_type": "markdown",
   "metadata": {},
   "source": [
    "## Dropouts\n",
    "\n",
    "*Dropout* is one of the most popular regularisation methods for deep neural networks. typically getting a 1-2% accuracy boost simply by add dropouts (consider if DNN is 95%) 1-2% of that is easily 20-30% imporovement.\n",
    "\n",
    "At every training step, every neual (including the iutput neurons, excluding output neurons) has a probability *p* of being temorarily dropped out. (entirely ignored in the training for **this step**)\n",
    "\n",
    "*p* is called the *drop rate* and typically set between 10% and 50%:\n",
    "- ~20-30% in recurrent neural networks\n",
    "- ~40-50% in convolutional neural networks.\n",
    "\n",
    "After training, neuron is no longer being dropped"
   ]
  },
  {
   "cell_type": "markdown",
   "metadata": {},
   "source": [
    "### Version Control"
   ]
  },
  {
   "cell_type": "code",
   "execution_count": 37,
   "metadata": {},
   "outputs": [
    {
     "name": "stderr",
     "output_type": "stream",
     "text": [
      "warning: LF will be replaced by CRLF in tensorflow/8_regularisation.ipynb.\n",
      "The file will have its original line endings in your working directory\n"
     ]
    },
    {
     "name": "stdout",
     "output_type": "stream",
     "text": [
      "[master 4430f95] added regularisation\n",
      " 1 file changed, 291 insertions(+)\n",
      " create mode 100644 tensorflow/8_regularisation.ipynb\n"
     ]
    },
    {
     "name": "stderr",
     "output_type": "stream",
     "text": [
      "To https://github.com/auslei/python.git\n",
      "   1445625..4430f95  master -> master\n"
     ]
    }
   ],
   "source": [
    "!git add 8_regularisation.ipynb\n",
    "!git commit -m \"added regularisation\"\n",
    "!git push"
   ]
  },
  {
   "cell_type": "code",
   "execution_count": null,
   "metadata": {},
   "outputs": [],
   "source": []
  },
  {
   "cell_type": "code",
   "execution_count": null,
   "metadata": {},
   "outputs": [],
   "source": []
  }
 ],
 "metadata": {
  "kernelspec": {
   "display_name": "ml_with_tf",
   "language": "python",
   "name": "ml_with_tf"
  },
  "language_info": {
   "codemirror_mode": {
    "name": "ipython",
    "version": 3
   },
   "file_extension": ".py",
   "mimetype": "text/x-python",
   "name": "python",
   "nbconvert_exporter": "python",
   "pygments_lexer": "ipython3",
   "version": "3.8.6"
  }
 },
 "nbformat": 4,
 "nbformat_minor": 4
}
