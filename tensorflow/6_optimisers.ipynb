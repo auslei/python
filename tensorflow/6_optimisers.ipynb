{
 "cells": [
  {
   "cell_type": "code",
   "execution_count": 13,
   "metadata": {},
   "outputs": [
    {
     "name": "stdout",
     "output_type": "stream",
     "text": [
      "(45000, 28, 28) (45000,)\n"
     ]
    }
   ],
   "source": [
    "from tensorflow import keras\n",
    "from sklearn.model_selection import train_test_split\n",
    "\n",
    "fashion_mnist = keras.datasets.fashion_mnist\n",
    "(X_train_full, y_train_full), (X_test, y_test) = fashion_mnist.load_data()\n",
    "\n",
    "X_train, X_valid, y_train,  y_valid = train_test_split(X_train_full, y_train_full, test_size = 0.25)\n",
    "\n",
    "print(X_train.shape, y_train.shape)"
   ]
  },
  {
   "cell_type": "code",
   "execution_count": 8,
   "metadata": {},
   "outputs": [
    {
     "data": {
      "text/plain": [
       "<matplotlib.image.AxesImage at 0x246935fbcd0>"
      ]
     },
     "execution_count": 8,
     "metadata": {},
     "output_type": "execute_result"
    },
    {
     "data": {
      "image/png": "[encoded data removed]",
      "text/plain": [
       "<Figure size 432x288 with 4 Axes>"
      ]
     },
     "metadata": {
      "needs_background": "light"
     },
     "output_type": "display_data"
    }
   ],
   "source": [
    "from matplotlib import pyplot as plt\n",
    "\n",
    "fig, ax = plt.subplots(2, 2)\n",
    "ax[0][0].imshow(X_train[0])\n",
    "ax[0][1].imshow(X_train[1])\n",
    "ax[1][0].imshow(X_train[2])\n",
    "ax[1][1].imshow(X_train[3])"
   ]
  },
  {
   "cell_type": "code",
   "execution_count": 31,
   "metadata": {},
   "outputs": [
    {
     "name": "stdout",
     "output_type": "stream",
     "text": [
      ".\\tf_logs\\2020_10_17-16_23_16\n"
     ]
    }
   ],
   "source": [
    "import os\n",
    "import time\n",
    "\n",
    "root_logdir = os.path.join(os.curdir, \"tf_logs\")\n",
    "\n",
    "def run_logdir():\n",
    "    root_logdir = os.path.join(os.curdir, \"tf_logs\")\n",
    "    run_id = time.strftime(\"%Y_%m_%d-%H_%M_%S\")\n",
    "    return os.path.join(root_logdir, run_id)\n",
    "\n",
    "\n",
    "print(run_logdir())"
   ]
  },
  {
   "cell_type": "code",
   "execution_count": 33,
   "metadata": {},
   "outputs": [
    {
     "name": "stdout",
     "output_type": "stream",
     "text": [
      "313/313 [==============================] - 0s 728us/step - loss: 0.5034 - accuracy: 0.8213\n",
      "[0.5034307837486267, 0.8213000297546387]\n",
      "313/313 [==============================] - 0s 741us/step - loss: 0.3683 - accuracy: 0.8697\n",
      "[0.3683238923549652, 0.869700014591217]\n",
      "313/313 [==============================] - 0s 847us/step - loss: 0.3777 - accuracy: 0.8672\n",
      "[0.37768223881721497, 0.8672000169754028]\n",
      "313/313 [==============================] - 0s 847us/step - loss: 0.4405 - accuracy: 0.8482\n",
      "[0.44054219126701355, 0.8482000231742859]\n"
     ]
    }
   ],
   "source": [
    "from tensorflow.keras import activations, layers, initializers, callbacks, models\n",
    "from tensorflow.keras.layers import Flatten, Dense, LeakyReLU, BatchNormalization, ReLU, ELU\n",
    "from tensorflow.keras.models import Sequential\n",
    "from tensorflow.keras.callbacks import EarlyStopping, ModelCheckpoint, TensorBoard\n",
    "from tensorflow.keras.optimizers import SGD, Adagrad, RMSprop, Adam, Nadam, Adamax\n",
    "\n",
    "es_cb = EarlyStopping(patience=3, monitor='val_loss') # early stopping at min loss\n",
    "md_cb = ModelCheckpoint(\"f_mnist_model_A.h5\", save_best_only=True)\n",
    "tb_cb = TensorBoard(run_logdir())\n",
    "\n",
    "sgd_vanilla = SGD(lr = 1e-3)\n",
    "sgd_momentum = SGD(lr = 1e-3, momentum=0.9)\n",
    "sgd_nesterove = SGD(lr = 1e-3, momentum=0.9, nesterov=True)\n",
    "adagrad = Adagrad(lr = 1e-3, epsilon= 1e-7)\n",
    "\n",
    "optimisers = [sgd_vanilla, sgd_momentum, sgd_nesterove, adagrad]\n",
    "runs = []\n",
    "NUM_EPOCHS = 5\n",
    "\n",
    "for opt in optimisers:\n",
    "    keras.backend.clear_session()    \n",
    "    model = Sequential([\n",
    "        Flatten(input_shape=[28, 28]),\n",
    "        BatchNormalization(),\n",
    "        Dense(300, activation = \"relu\"),\n",
    "        Dense(300, activation = \"relu\"),\n",
    "        Dense(300, activation = \"relu\"),\n",
    "        Dense(10, activation = \"softmax\")\n",
    "    ])\n",
    "    \n",
    "    model.compile(optimizer =  opt, loss = \"sparse_categorical_crossentropy\", metrics = \"accuracy\")\n",
    "    history = model.fit(X_train, y_train, epochs=NUM_EPOCHS, validation_data = (X_valid, y_valid),\n",
    "                        verbose = False)\n",
    "    print(model.evaluate(X_test, y_test))\n",
    "    runs.append(history.history)\n",
    "    "
   ]
  },
  {
   "cell_type": "code",
   "execution_count": null,
   "metadata": {},
   "outputs": [
    {
     "data": {
      "text/plain": [
       "<AxesSubplot:title={'center':'AdaGrad'}>"
      ]
     },
     "execution_count": 36,
     "metadata": {},
     "output_type": "execute_result"
    }
   ],
   "source": [
    "from matplotlib import pyplot as plt\n",
    "import pandas as pd\n",
    "fig, ax = plt.subplots(2, 2)\n",
    "fig.set_size_inches(10, 10)\n",
    "pd.DataFrame(runs[0]).plot(ax = ax[0][0], title = \"SGD\")\n",
    "pd.DataFrame(runs[1]).plot(ax = ax[0][1], title = \"SGD (Momentum)\")\n",
    "pd.DataFrame(runs[2]).plot(ax = ax[1][0], title = \"SGD (Nesterov)\")\n",
    "pd.DataFrame(runs[2]).plot(ax = ax[1][1], title = \"AdaGrad\")"
   ]
  },
  {
   "cell_type": "code",
   "execution_count": null,
   "metadata": {},
   "outputs": [],
   "source": []
  }
 ],
 "metadata": {
  "kernelspec": {
   "display_name": "ml_with_tf",
   "language": "python",
   "name": "ml_with_tf"
  },
  "language_info": {
   "codemirror_mode": {
    "name": "ipython",
    "version": 3
   },
   "file_extension": ".py",
   "mimetype": "text/x-python",
   "name": "python",
   "nbconvert_exporter": "python",
   "pygments_lexer": "ipython3",
   "version": "3.8.6"
  }
 },
 "nbformat": 4,
 "nbformat_minor": 4
}
