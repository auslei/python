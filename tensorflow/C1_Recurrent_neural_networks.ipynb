{
 "cells": [
  {
   "cell_type": "markdown",
   "metadata": {},
   "source": [
    "## Rcurent Neural Networks\n",
    "\n",
    "A recurrent neural network looks very much like a feedforward neural network, except it also has connections pointing backward. At each step (or frame) at time t, the network receives input $x_{(t)}$ and also output from previous step $y_{(t-1)}$. At first step the output would be set to 0.\n",
    "\n",
    "Every neuron has two sets of weights:\n",
    "- $x_{(t)}$: we can call it $w_x$, which is a vector respect to inputs\n",
    "- $y_{(t-1)}$: we can call it $w_y$, which is a vector respect to number of neurons\n",
    "\n",
    "for each batch, then the $W_x$, and $W_y$ matrics stores the weights. \n",
    "\n",
    "The output of the neuron can then be expressed as:\n",
    "\n",
    "$y_{(t)} = \\phi(W_x^Tx_{(t)} + W_y^Ty_{(t-1)} + b)$\n",
    "\n",
    "where $\\phi$ is the activation function.\n",
    "\n",
    "$Y_{(t)} = \\phi(X_{(t)}W_x + Y_{(t-1)}W_y + b)$\n",
    "\n",
    "Note: $Y_{(t)}$ is a function of all inputs from time t=0"
   ]
  },
  {
   "cell_type": "code",
   "execution_count": 30,
   "metadata": {},
   "outputs": [
    {
     "data": {
      "text/plain": [
       "array([[[ 0.41264027],\n",
       "        [-0.45045546],\n",
       "        [ 1.409896  ],\n",
       "        [ 0.6413957 ],\n",
       "        [-0.5724117 ],\n",
       "        [ 1.1804407 ],\n",
       "        [ 0.9016429 ],\n",
       "        [-0.32279313],\n",
       "        [ 0.5055039 ],\n",
       "        [ 1.387821  ]]], dtype=float32)"
      ]
     },
     "execution_count": 30,
     "metadata": {},
     "output_type": "execute_result"
    }
   ],
   "source": [
    "## generate test data\n",
    "import numpy as np\n",
    "def generate_time_series(batch_size, n_steps):\n",
    "    freq1, freq2, offsets1, offsets2 = np.random.rand(4, batch_size, 1)\n",
    "    time = np.linspace(0, 1, n_steps)\n",
    "    series = 0.5 + np.sin((time - offsets1) * (freq1 * 10 + 10)) # wave 1\n",
    "    series += 0.2 * np.sin((time - offsets2) * (freq2 * 20 + 20)) #wave 2\n",
    "    series += 0.1 * (np.random.rand(batch_size, n_steps) - 0.5)\n",
    "    return series[..., np.newaxis].astype(np.float32)\n",
    "\n",
    "generate_time_series(1, 10) # returns numpy array of [batch_size, timestep, 1] - univariate dataset"
   ]
  },
  {
   "cell_type": "code",
   "execution_count": 68,
   "metadata": {},
   "outputs": [],
   "source": [
    "n_steps = 50\n",
    "series = generate_time_series(10000, n_steps + 1)\n",
    "X_train, y_train = series[:7000, :n_steps], series[:7000, -1]\n",
    "X_valid, y_valid = series[7000:9000, :n_steps], series[7000:9000, -1]\n",
    "X_test, y_test = series[9000:, :n_steps], series[9000:, -1]\n"
   ]
  },
  {
   "cell_type": "code",
   "execution_count": 69,
   "metadata": {},
   "outputs": [
    {
     "data": {
      "text/plain": [
       "((10000, 51, 1), (1000, 50, 1), (1000, 1))"
      ]
     },
     "execution_count": 69,
     "metadata": {},
     "output_type": "execute_result"
    }
   ],
   "source": [
    "series.shape, X_test.shape, y_test.shape"
   ]
  },
  {
   "cell_type": "markdown",
   "metadata": {},
   "source": [
    "## Predict ahead"
   ]
  },
  {
   "cell_type": "code",
   "execution_count": 70,
   "metadata": {},
   "outputs": [
    {
     "name": "stdout",
     "output_type": "stream",
     "text": [
      "Model: \"sequential_13\"\n",
      "_________________________________________________________________\n",
      "Layer (type)                 Output Shape              Param #   \n",
      "=================================================================\n",
      "simple_rnn_27 (SimpleRNN)    (None, 1)                 3         \n",
      "=================================================================\n",
      "Total params: 3\n",
      "Trainable params: 3\n",
      "Non-trainable params: 0\n",
      "_________________________________________________________________\n",
      "Model: \"sequential_14\"\n",
      "_________________________________________________________________\n",
      "Layer (type)                 Output Shape              Param #   \n",
      "=================================================================\n",
      "simple_rnn_28 (SimpleRNN)    (None, None, 20)          440       \n",
      "_________________________________________________________________\n",
      "simple_rnn_29 (SimpleRNN)    (None, None, 20)          820       \n",
      "_________________________________________________________________\n",
      "simple_rnn_30 (SimpleRNN)    (None, 1)                 22        \n",
      "=================================================================\n",
      "Total params: 1,282\n",
      "Trainable params: 1,282\n",
      "Non-trainable params: 0\n",
      "_________________________________________________________________\n",
      "Model: \"sequential_15\"\n",
      "_________________________________________________________________\n",
      "Layer (type)                 Output Shape              Param #   \n",
      "=================================================================\n",
      "simple_rnn_31 (SimpleRNN)    (None, None, 20)          440       \n",
      "_________________________________________________________________\n",
      "simple_rnn_32 (SimpleRNN)    (None, 20)                820       \n",
      "_________________________________________________________________\n",
      "dense_2 (Dense)              (None, 1)                 21        \n",
      "=================================================================\n",
      "Total params: 1,281\n",
      "Trainable params: 1,281\n",
      "Non-trainable params: 0\n",
      "_________________________________________________________________\n"
     ]
    }
   ],
   "source": [
    "import tensorflow as tf\n",
    "from tensorflow import keras\n",
    "from tensorflow.keras.models import Sequential\n",
    "from tensorflow.keras.layers import SimpleRNN, Dense\n",
    "\n",
    "#simple model with one RNN neoron\n",
    "model = keras.models.Sequential([\n",
    "    SimpleRNN(1, input_shape = [None, 1])\n",
    "])\n",
    "\n",
    "#deep model with mulitple layers\n",
    "model2 = Sequential([\n",
    "    SimpleRNN(20, return_sequences = True, input_shape = [None, 1]),\n",
    "    SimpleRNN(20, return_sequences = True),\n",
    "    SimpleRNN(1) # last do not neeed the return sequencies\n",
    "])\n",
    "\n",
    "\n",
    "#deep model with dense at the end\n",
    "model3 = Sequential([\n",
    "    SimpleRNN(20, return_sequences = True, input_shape = [None, 1]),\n",
    "    SimpleRNN(20),\n",
    "    Dense(1)\n",
    "])\n",
    "\n",
    "model.summary() #3 parameters to train (Wx, Wy, b)\n",
    "\n",
    "model2.summary() \n",
    "\n",
    "model3.summary()"
   ]
  },
  {
   "cell_type": "code",
   "execution_count": 71,
   "metadata": {},
   "outputs": [
    {
     "name": "stdout",
     "output_type": "stream",
     "text": [
      "32/32 [==============================] - 0s 1ms/step - loss: 0.2812\n",
      "32/32 [==============================] - 0s 3ms/step - loss: 0.0590\n",
      "32/32 [==============================] - 0s 2ms/step - loss: 0.0053\n"
     ]
    }
   ],
   "source": [
    "history = []\n",
    "keras.backend.clear_session()\n",
    "es_cb = keras.callbacks.EarlyStopping(patience=5, min_delta = 1e3)\n",
    "\n",
    "for m in [model, model2, model3]:\n",
    "    m.compile(loss = 'mse', optimizer = 'adam')\n",
    "    history.append(m.fit(X_train, y_train, callbacks = es_cb, validation_data=(X_valid, y_valid), epochs = 30, verbose = False))\n",
    "    m.evaluate(X_test, y_test)"
   ]
  },
  {
   "cell_type": "code",
   "execution_count": 79,
   "metadata": {},
   "outputs": [
    {
     "data": {
      "image/png": "[encoded data removed]",
      "text/plain": [
       "<Figure size 432x288 with 1 Axes>"
      ]
     },
     "metadata": {
      "needs_background": "light"
     },
     "output_type": "display_data"
    }
   ],
   "source": [
    "from matplotlib import pyplot as plt\n",
    "\n",
    "seq = X_test[:1].squeeze()\n",
    "y_pred = model.predict(X_test[:1]).squeeze()\n",
    "y_pred2 = model2.predict(X_test[:1]).squeeze()\n",
    "y_pred3 = model3.predict(X_test[:1]).squeeze()\n",
    "y_act = y_test[:1].squeeze()\n",
    "\n",
    "\n",
    "plt.plot(np.arange(50), seq, alpha = 0.2, color = 'm', linestyle = '--')\n",
    "plt.scatter([51], [y_pred], s = 100, alpha = 0.2, color = 'b', marker = '*', label = \"Predicted Simple\")\n",
    "plt.scatter([51], [y_pred2], s = 100, alpha = 0.2, color = 'm', marker = 'h', label = \"Predicted Deep\")\n",
    "plt.scatter([51], [y_pred3], s = 100, alpha = 0.2, color = 'c', marker = '+', label = \"Predicted Deep Dense\")\n",
    "plt.scatter([51], [y_act], s = 100, alpha = 0.2, color = 'g', marker = 'o', label = \"Actual\")\n",
    "\n",
    "plt.legend()\n",
    "\n",
    "plt.show()"
   ]
  },
  {
   "cell_type": "code",
   "execution_count": 67,
   "metadata": {},
   "outputs": [
    {
     "data": {
      "text/plain": [
       "array(0.16205916, dtype=float32)"
      ]
     },
     "execution_count": 67,
     "metadata": {},
     "output_type": "execute_result"
    }
   ],
   "source": []
  },
  {
   "cell_type": "code",
   "execution_count": 34,
   "metadata": {},
   "outputs": [],
   "source": [
    "## Forecast serveral time steps ahead\n",
    "\n",
    "series = generate_time_series(1, n_steps + 10)\n",
    "X_new, Y_new = series[:, :n_steps], series[:, n_steps:]\n",
    "\n",
    "X = X_new\n",
    "\n",
    "for step_ahead in range(10):\n",
    "    y_pred_one = model.predict(X[:, step_ahead:])[:, np.newaxis, :]\n",
    "    X = np.concatenate([X, y_pred_one], axis = 1)\n",
    "    \n",
    "y_pred = X[:, n_steps:]"
   ]
  },
  {
   "cell_type": "code",
   "execution_count": null,
   "metadata": {},
   "outputs": [],
   "source": []
  }
 ],
 "metadata": {
  "kernelspec": {
   "display_name": "ml_with_tf",
   "language": "python",
   "name": "ml_with_tf"
  },
  "language_info": {
   "codemirror_mode": {
    "name": "ipython",
    "version": 3
   },
   "file_extension": ".py",
   "mimetype": "text/x-python",
   "name": "python",
   "nbconvert_exporter": "python",
   "pygments_lexer": "ipython3",
   "version": "3.8.6"
  }
 },
 "nbformat": 4,
 "nbformat_minor": 4
}
