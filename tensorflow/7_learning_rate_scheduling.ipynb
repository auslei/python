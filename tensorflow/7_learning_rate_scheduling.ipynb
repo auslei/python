{
 "cells": [
  {
   "cell_type": "code",
   "execution_count": 73,
   "metadata": {},
   "outputs": [
    {
     "name": "stdout",
     "output_type": "stream",
     "text": [
      "(45000, 28, 28) (45000,)\n"
     ]
    }
   ],
   "source": [
    "from tensorflow import keras\n",
    "from sklearn.model_selection import train_test_split\n",
    "\n",
    "fashion_mnist = keras.datasets.fashion_mnist\n",
    "(X_train_full, y_train_full), (X_test, y_test) = fashion_mnist.load_data()\n",
    "\n",
    "X_train, X_valid, y_train,  y_valid = train_test_split(X_train_full, y_train_full, test_size = 0.25)\n",
    "\n",
    "print(X_train.shape, y_train.shape)"
   ]
  },
  {
   "cell_type": "code",
   "execution_count": 74,
   "metadata": {},
   "outputs": [
    {
     "data": {
      "text/plain": [
       "<matplotlib.image.AxesImage at 0x246a353c040>"
      ]
     },
     "execution_count": 74,
     "metadata": {},
     "output_type": "execute_result"
    },
    {
     "data": {
      "image/png": "[encoded data removed]",
      "text/plain": [
       "<Figure size 432x288 with 4 Axes>"
      ]
     },
     "metadata": {
      "needs_background": "light"
     },
     "output_type": "display_data"
    }
   ],
   "source": [
    "from matplotlib import pyplot as plt\n",
    "\n",
    "fig, ax = plt.subplots(2, 2)\n",
    "ax[0][0].imshow(X_train[0])\n",
    "ax[0][1].imshow(X_train[1])\n",
    "ax[1][0].imshow(X_train[2])\n",
    "ax[1][1].imshow(X_train[3])"
   ]
  },
  {
   "cell_type": "markdown",
   "metadata": {},
   "source": [
    "## Learning rate schedules\n",
    "\n",
    "Learning rate scehduling is a technical to gradualy descrease/increase learning rate during training. It normally can be done with a decay parameter in optimiser or can be defined as a callback function. The typicall scheduling are:\n",
    "\n",
    "- Power Scheduling: lr(t) = lr(0) / (1 + t/s)^c (typically c is 0, and s is step)\n",
    "- Exponential Scheduling: lr(t) = lr(0)*0.1^(t/s) (gradual drop by a factor of 10 every s steps)\n",
    "- Piecewise constant scheduleing: use a constant learning rate for a number of epochs then reduce to a smaller one, and so on\n",
    "- Performance schedulling: Measure the validation error every N steps and reduce rate by a factor of lambda when error stops dropping"
   ]
  },
  {
   "cell_type": "code",
   "execution_count": 76,
   "metadata": {},
   "outputs": [
    {
     "name": "stdout",
     "output_type": "stream",
     "text": [
      "313/313 [==============================] - 0s 783us/step - loss: 0.3493 - accuracy: 0.8737\n",
      "[0.3492662012577057, 0.8737000226974487]\n"
     ]
    }
   ],
   "source": [
    "from tensorflow.keras import activations, layers, initializers, callbacks, models\n",
    "from tensorflow.keras.layers import Flatten, Dense, LeakyReLU, BatchNormalization, ReLU, ELU\n",
    "from tensorflow.keras.models import Sequential\n",
    "from tensorflow.keras.callbacks import EarlyStopping, ModelCheckpoint, TensorBoard\n",
    "from tensorflow.keras.optimizers import SGD, Adagrad, RMSprop, Adam, Nadam, Adamax\n",
    "\n",
    "es_cb = EarlyStopping(patience=3, monitor='val_loss') # early stopping at min loss\n",
    "md_cb = ModelCheckpoint(\"f_mnist_model_A.h5\", save_best_only=True) # setup a model check point\n",
    "tb_cb = TensorBoard(run_logdir()) # tensorboard check point\n",
    "\n",
    "sgd_vanilla = SGD(lr = 1e-3) # stochastic gradient descent\n",
    "\n",
    "keras.backend.clear_session()    \n",
    "model = Sequential([\n",
    "    Flatten(input_shape=[28, 28]),\n",
    "    BatchNormalization(),\n",
    "    Dense(300, activation = \"relu\"),\n",
    "    Dense(300, activation = \"relu\"),\n",
    "    Dense(300, activation = \"relu\"),\n",
    "    Dense(10, activation = \"softmax\")\n",
    "])\n",
    "    \n",
    "model.compile(optimizer =  opt, loss = \"sparse_categorical_crossentropy\", metrics = \"accuracy\")\n",
    "history = model.fit(X_train, y_train, epochs=NUM_EPOCHS, validation_data = (X_valid, y_valid), \n",
    "                    verbose = False)\n",
    "print(model.evaluate(X_test, y_test))"
   ]
  },
  {
   "cell_type": "code",
   "execution_count": 68,
   "metadata": {},
   "outputs": [
    {
     "data": {
      "text/plain": [
       "7035"
      ]
     },
     "execution_count": 68,
     "metadata": {},
     "output_type": "execute_result"
    }
   ],
   "source": [
    "##"
   ]
  },
  {
   "cell_type": "code",
   "execution_count": null,
   "metadata": {},
   "outputs": [],
   "source": []
  }
 ],
 "metadata": {
  "kernelspec": {
   "display_name": "ml_with_tf",
   "language": "python",
   "name": "ml_with_tf"
  },
  "language_info": {
   "codemirror_mode": {
    "name": "ipython",
    "version": 3
   },
   "file_extension": ".py",
   "mimetype": "text/x-python",
   "name": "python",
   "nbconvert_exporter": "python",
   "pygments_lexer": "ipython3",
   "version": "3.8.6"
  }
 },
 "nbformat": 4,
 "nbformat_minor": 4
}
