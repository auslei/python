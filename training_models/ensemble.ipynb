{
 "cells": [
  {
   "cell_type": "markdown",
   "metadata": {
    "Collapsed": "false"
   },
   "source": [
    "## Random Forest ##\n",
    "\n",
    "*Crowd wisdom*, aggregated predictors usually performs better than single ones. The majority vote method is also know as *emsemble method*. The method works best if predictors are independent (data and method). Random forest is normally emsemble decision trees with bootstraping methods"
   ]
  },
  {
   "cell_type": "markdown",
   "metadata": {
    "Collapsed": "false"
   },
   "source": [
    "## Voting Classifier ##\n"
   ]
  },
  {
   "cell_type": "code",
   "execution_count": 1,
   "metadata": {
    "Collapsed": "false"
   },
   "outputs": [
    {
     "name": "stdout",
     "output_type": "stream",
     "text": [
      "LogisticRegression 0.9636363636363636\n",
      "RandomForestClassifier 0.9606060606060606\n",
      "SVC 0.9636363636363636\n",
      "VotingClassifier 0.9666666666666667\n"
     ]
    }
   ],
   "source": [
    "from sklearn.ensemble import RandomForestClassifier\n",
    "from sklearn.ensemble import VotingClassifier\n",
    "from sklearn.datasets import make_classification\n",
    "\n",
    "from sklearn.linear_model import LogisticRegression\n",
    "from sklearn.svm import SVC\n",
    "from sklearn.model_selection import train_test_split\n",
    "\n",
    "log_clf = LogisticRegression()\n",
    "svm_clf = SVC()\n",
    "rnd_clf = RandomForestClassifier()\n",
    "\n",
    "voting_clf = VotingClassifier(\n",
    "                estimators = [('lr', log_clf), ('svc', svm_clf), ('rf', rnd_clf)],\n",
    "                voting = \"hard\"\n",
    "            )\n",
    "\n",
    "X, y = make_classification(n_samples= 2000, n_classes=2, n_features=20, \n",
    "                           n_redundant = 6, n_clusters_per_class = 2, \n",
    "                           weights = (0.95, 0.05))\n",
    "\n",
    "X_train, X_test, y_train, y_test = train_test_split(X, y, test_size=0.33, random_state=42)\n",
    "\n",
    "#voting_clf.fit(X_train, y_train)\n",
    "\n",
    "from sklearn.metrics import accuracy_score\n",
    "for clf in (log_clf, rnd_clf, svm_clf, voting_clf):\n",
    "    clf.fit(X_train, y_train)\n",
    "    y_pred = clf.predict(X_test)\n",
    "    print(clf.__class__.__name__, accuracy_score(y_test, y_pred))"
   ]
  },
  {
   "cell_type": "markdown",
   "metadata": {
    "Collapsed": "false"
   },
   "source": [
    "## bagging and pasting ##\n",
    "Using same training algorithm for each of predicor, but train in different subset of random data. This is called boostrap aggregating (aka bagging) if sampling is performed with replacement, pasting if without."
   ]
  },
  {
   "cell_type": "code",
   "execution_count": 2,
   "metadata": {
    "Collapsed": "false"
   },
   "outputs": [
    {
     "data": {
      "text/plain": [
       "(0.9666666666666667, 0.9671641791044776)"
      ]
     },
     "execution_count": 2,
     "metadata": {},
     "output_type": "execute_result"
    }
   ],
   "source": [
    "from sklearn.ensemble import BaggingClassifier\n",
    "from sklearn.tree import DecisionTreeClassifier\n",
    "\n",
    "bag_clf = BaggingClassifier(DecisionTreeClassifier(), n_estimators=500, max_samples=100, bootstrap=True, oob_score=True)\n",
    "bag_clf.fit(X_train, y_train)\n",
    "y_pred = bag_clf.predict(X_test)\n",
    "accuracy_score(y_test, y_pred), bag_clf.oob_score_"
   ]
  },
  {
   "cell_type": "markdown",
   "metadata": {
    "Collapsed": "false"
   },
   "source": [
    "## Random Pathes and Random Subspace ##\n",
    "\n",
    "Random patches is basically sampling features and data, subspace is sampling features only. Helps with high dimensional data. \n",
    "\n",
    "User hyperparameter: max_features and bootstrap_features\n",
    "\n",
    "For subspace: use bootstrap = False, max_samples = 1.0\n"
   ]
  },
  {
   "cell_type": "code",
   "execution_count": 3,
   "metadata": {
    "Collapsed": "false"
   },
   "outputs": [
    {
     "data": {
      "text/plain": [
       "(0.9651515151515152, 0.9649253731343284)"
      ]
     },
     "execution_count": 3,
     "metadata": {},
     "output_type": "execute_result"
    }
   ],
   "source": [
    "from sklearn.ensemble import RandomForestClassifier\n",
    "rf_clf = RandomForestClassifier(n_estimators=500, max_samples=100, bootstrap=True, oob_score=True)\n",
    "rf_clf.fit(X_train, y_train)\n",
    "y_pred = rf_clf.predict(X_test)\n",
    "accuracy_score(y_test, y_pred), rf_clf.oob_score_"
   ]
  },
  {
   "cell_type": "markdown",
   "metadata": {
    "Collapsed": "false"
   },
   "source": [
    "## Extra Trees ##\n",
    "\n",
    "*Extremely Randomised* trees. The is for every node, the trees are made random by also using random threshold for each feature, rather than search best possble threshods. This will potentially reduce bias by trading variance, and making treess faster. \n",
    "\n",
    "https://scikit-learn.org/stable/modules/generated/sklearn.ensemble.ExtraTreesClassifier.html"
   ]
  },
  {
   "cell_type": "code",
   "execution_count": 4,
   "metadata": {
    "Collapsed": "false"
   },
   "outputs": [],
   "source": [
    "from sklearn.ensemble import ExtraTreesClassifier\n",
    "ext_clf = ExtraTreesClassifier()"
   ]
  },
  {
   "cell_type": "markdown",
   "metadata": {
    "Collapsed": "false"
   },
   "source": [
    "## Feature Importance\n",
    "Random forest can also be used to measure the relative imporance of each feature, by measure how much reduction of impurity for each node using weighted average."
   ]
  },
  {
   "cell_type": "code",
   "execution_count": 5,
   "metadata": {
    "Collapsed": "false"
   },
   "outputs": [
    {
     "name": "stdout",
     "output_type": "stream",
     "text": [
      "sepal length (cm) 0.10562659372070356\n",
      "sepal width (cm) 0.02699371592726922\n",
      "petal length (cm) 0.43641424382675187\n",
      "petal width (cm) 0.43096544652527535\n"
     ]
    }
   ],
   "source": [
    "from sklearn.datasets import load_iris\n",
    "from sklearn.ensemble import RandomForestClassifier\n",
    "iris = load_iris()\n",
    "rnd_clf = RandomForestClassifier(n_estimators=500, n_jobs=-1)\n",
    "rnd_clf.fit(iris['data'], iris['target'])\n",
    "for name, score in zip(iris[\"feature_names\"], rnd_clf.feature_importances_):\n",
    "    print(name, score)"
   ]
  },
  {
   "cell_type": "markdown",
   "metadata": {
    "Collapsed": "false"
   },
   "source": [
    "## Boosting\n",
    "Boosting involves combine several weak learners. This is to train predictors sequentially, each trying to correct its predecessor.\n",
    "\n",
    "Popular methods are **AdaBoost**(adaptive boosting) and **Gradient Boost**\n",
    "\n",
    "https://www.sciencedirect.com/science/article/pii/S002200009791504X\n",
    "\n",
    "\n",
    "### ADA Boosting ###\n",
    "https://scikit-learn.org/stable/modules/generated/sklearn.ensemble.AdaBoostClassifier.html\n",
    "First base predictor is trained, relative weights of misclassified instances is then increased, the next predictor is trained using updated weights.\n",
    "\n",
    "https://towardsdatascience.com/boosting-and-adaboost-clearly-explained-856e21152d3e\n",
    "\n",
    "Start by assigning a weight for each sample, then increase weight for misclassified samples, find the best stump for the next one, and start again."
   ]
  },
  {
   "cell_type": "code",
   "execution_count": 6,
   "metadata": {
    "Collapsed": "false"
   },
   "outputs": [
    {
     "name": "stdout",
     "output_type": "stream",
     "text": [
      "0.9466666666666667\n"
     ]
    },
    {
     "data": {
      "text/plain": [
       "(array([3.33333333e-01, 6.00022589e-02, 3.33355372e-01, 1.20397414e-01,\n",
       "        3.33354186e-01, 2.46496772e-04, 3.33379977e-01, 3.24696290e-04,\n",
       "        3.33365707e-01, 3.77301322e-04, 3.33379704e-01, 3.49084999e-04,\n",
       "        3.33368069e-01, 3.77542089e-04, 3.33377933e-01, 3.52106376e-04,\n",
       "        3.33369433e-01, 3.72712090e-04, 3.33376616e-01, 3.54056001e-04,\n",
       "        3.33370427e-01, 3.69265052e-04, 3.33375674e-01, 3.55694330e-04,\n",
       "        3.33371161e-01, 3.66896338e-04, 3.33374996e-01, 3.57017448e-04,\n",
       "        3.33371703e-01, 3.65249478e-04, 3.33374507e-01, 3.58050974e-04,\n",
       "        3.33372101e-01, 3.64091057e-04, 3.33374151e-01, 3.58841485e-04,\n",
       "        3.33372394e-01, 3.63268582e-04, 3.33373893e-01, 3.59437902e-04,\n",
       "        3.33372609e-01, 3.62680377e-04, 3.33373705e-01, 3.59883751e-04,\n",
       "        3.33372767e-01, 3.62257368e-04, 3.33373568e-01, 3.60214928e-04,\n",
       "        3.33372882e-01, 3.61951873e-04]),\n",
       " array([1., 1., 1., 1., 1., 1., 1., 1., 1., 1., 1., 1., 1., 1., 1., 1., 1.,\n",
       "        1., 1., 1., 1., 1., 1., 1., 1., 1., 1., 1., 1., 1., 1., 1., 1., 1.,\n",
       "        1., 1., 1., 1., 1., 1., 1., 1., 1., 1., 1., 1., 1., 1., 1., 1.]),\n",
       " array([0.  , 0.  , 0.52, 0.48]),\n",
       " ['sepal length (cm)',\n",
       "  'sepal width (cm)',\n",
       "  'petal length (cm)',\n",
       "  'petal width (cm)'])"
      ]
     },
     "execution_count": 6,
     "metadata": {},
     "output_type": "execute_result"
    }
   ],
   "source": [
    "from sklearn.ensemble import AdaBoostClassifier\n",
    "from sklearn.datasets import load_iris\n",
    "from sklearn.model_selection import cross_val_score\n",
    "\n",
    "iris = load_iris()\n",
    "ada_clf = AdaBoostClassifier(n_estimators=50)\n",
    "ada_clf.fit(iris['data'], iris['target'])\n",
    "\n",
    "s = cross_val_score(ada_clf, iris['data'], iris['target'], cv=6)\n",
    "print(s.mean())\n",
    "\n",
    "ada_clf.estimator_errors_, ada_clf.estimator_weights_, ada_clf.feature_importances_, iris['feature_names']\n"
   ]
  },
  {
   "cell_type": "markdown",
   "metadata": {},
   "source": [
    "## Gradient Boosting\n",
    "\n",
    "Anothe sequencial model by fitting new predictor with residual errors made by the previous predictor. Decision tress can also be used as base predictors this is called *Gradient Tree Boosting* or *Gradient Boosted Regression Trees*(GBRT)"
   ]
  },
  {
   "cell_type": "code",
   "execution_count": 22,
   "metadata": {},
   "outputs": [],
   "source": [
    "from sklearn.datasets import make_regression\n",
    "X, y = make_regression(n_samples=100, n_features=1, noise=1.1)"
   ]
  },
  {
   "cell_type": "code",
   "execution_count": null,
   "metadata": {},
   "outputs": [],
   "source": [
    "import numpy\n",
    "X = n"
   ]
  },
  {
   "cell_type": "code",
   "execution_count": 26,
   "metadata": {},
   "outputs": [],
   "source": [
    "#https://scikit-learn.org/stable/modules/generated/sklearn.datasets.make_regression.html#sklearn.datasets.make_regression\n",
    "\n",
    "from sklearn.tree import DecisionTreeRegressor\n",
    "\n",
    "t1 = DecisionTreeRegressor(max_depth = 2)\n",
    "t1.fit(X, y)\n",
    "\n",
    "y2 = y - t1.predict(X)\n",
    "t2 = DecisionTreeRegressor(max_depth = 2)\n",
    "t2.fit(X, y2)\n",
    "\n",
    "y3 =  y2 - t2.predict(X)\n",
    "t3 = DecisionTreeRegressor(max_depth = 2)\n",
    "t3.fit(X, y3)\n",
    "\n",
    "y_pred = t1.predict(X) + t2.predict(X) + t3.predict(X)"
   ]
  },
  {
   "cell_type": "markdown",
   "metadata": {},
   "source": [
    "### SKlearn version\n",
    "\n",
    "Note that the learning rate hyper-parameter scales the contribution of each try. If it is a low value, more trees mayhbe needed, but prediction may generalise better. This regularisation technique is called *shrinkage*"
   ]
  },
  {
   "cell_type": "code",
   "execution_count": 35,
   "metadata": {},
   "outputs": [
    {
     "data": {
      "text/plain": [
       "GradientBoostingRegressor(alpha=0.9, ccp_alpha=0.0, criterion='friedman_mse',\n",
       "                          init=None, learning_rate=1, loss='ls', max_depth=2,\n",
       "                          max_features=None, max_leaf_nodes=None,\n",
       "                          min_impurity_decrease=0.0, min_impurity_split=None,\n",
       "                          min_samples_leaf=1, min_samples_split=2,\n",
       "                          min_weight_fraction_leaf=0.0, n_estimators=3,\n",
       "                          n_iter_no_change=None, presort='deprecated',\n",
       "                          random_state=None, subsample=1.0, tol=0.0001,\n",
       "                          validation_fraction=0.1, verbose=0, warm_start=False)"
      ]
     },
     "execution_count": 35,
     "metadata": {},
     "output_type": "execute_result"
    }
   ],
   "source": [
    "from sklearn.ensemble import GradientBoostingRegressor\n",
    "gbrt = GradientBoostingRegressor(max_depth=2, n_estimators = 3, learning_rate=1)\n",
    "gbrt.fit(X, y)"
   ]
  },
  {
   "cell_type": "code",
   "execution_count": 34,
   "metadata": {},
   "outputs": [
    {
     "data": {
      "text/plain": [
       "<matplotlib.collections.PathCollection at 0x7f1e3bcea908>"
      ]
     },
     "execution_count": 34,
     "metadata": {},
     "output_type": "execute_result"
    },
    {
     "data": {
      "image/png": "[encoded data removed]",
      "text/plain": [
       "<Figure size 756x396 with 1 Axes>"
      ]
     },
     "metadata": {
      "needs_background": "light"
     },
     "output_type": "display_data"
    }
   ],
   "source": [
    "from matplotlib import pyplot as plt\n",
    "%matplotlib inline\n",
    "\n",
    "fig, ax = plt.subplots()\n",
    "fig.set_size_inches(10.5, 5.5)\n",
    "\n",
    "ax.scatter(X, y, marker='*', alpha=0.8)\n",
    "ax.scatter(X, t1.predict(X), marker='o', alpha=0.8, c='g')\n",
    "#ax.scatter(X, t1.predict(X) + t2.predict(X), marker='o', alpha=0.8, c='y')\n",
    "ax.scatter(X, y_pred, marker='o', alpha=0.8, c='r')"
   ]
  },
  {
   "cell_type": "markdown",
   "metadata": {},
   "source": [
    "### Finding Optimal # Trees\n",
    "\n",
    "This is done by looking at score at each stage of the ensemble, and if there are no significant improvement, stop the progression. This is called **early stop**\n",
    "\n",
    "This can be done in sklearn by using a paramter called warm_start at True. This allows training to keep existing tress when the fit() method is called.\n",
    "\n",
    "The class also support subsample paramter which allows only a specified training instance is used for a given tree, this will trade variance with bias."
   ]
  },
  {
   "cell_type": "code",
   "execution_count": null,
   "metadata": {},
   "outputs": [],
   "source": [
    "#see book page 201"
   ]
  },
  {
   "cell_type": "markdown",
   "metadata": {},
   "source": [
    "## Stacking\n",
    "\n",
    "There are another method which is also described as stacking. This is basically instead of using a voting method, training a model by blending the result of predictors as training data."
   ]
  },
  {
   "cell_type": "code",
   "execution_count": null,
   "metadata": {},
   "outputs": [],
   "source": []
  }
 ],
 "metadata": {
  "kernelspec": {
   "display_name": "Python 3",
   "language": "python",
   "name": "python3"
  },
  "language_info": {
   "codemirror_mode": {
    "name": "ipython",
    "version": 3
   },
   "file_extension": ".py",
   "mimetype": "text/x-python",
   "name": "python",
   "nbconvert_exporter": "python",
   "pygments_lexer": "ipython3",
   "version": "3.6.8"
  }
 },
 "nbformat": 4,
 "nbformat_minor": 4
}
