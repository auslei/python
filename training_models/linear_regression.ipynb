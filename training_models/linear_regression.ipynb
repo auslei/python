{
 "cells": [
  {
   "cell_type": "code",
   "execution_count": 4,
   "metadata": {},
   "outputs": [],
   "source": [
    "#import librarries\n",
    "import numpy as np\n",
    "import matplotlib.pyplot as plt \n",
    "%matplotlib inline\n",
    "\n",
    "\n",
    "# normal equation\n",
    "def normal_equation(y, X):\n",
    "    return np.linalg.inv(X.T.dot(X)).dot(X.T).dot(y)\n",
    "\n",
    "# generate random data\n",
    "def generate_random_data(size = 100):\n",
    "    X = 2 * np.random.rand(m, 1)\n",
    "    y = 4 + 3 * X + np.random.rand(m, 1)\n",
    "    return X, y\n"
   ]
  },
  {
   "cell_type": "code",
   "execution_count": 5,
   "metadata": {},
   "outputs": [
    {
     "name": "stderr",
     "output_type": "stream",
     "text": [
      "No handles with labels found to put in legend.\n"
     ]
    },
    {
     "name": "stdout",
     "output_type": "stream",
     "text": [
      "(100, 1) (100, 1) (1,)\n"
     ]
    },
    {
     "data": {
      "text/plain": [
       "<matplotlib.legend.Legend at 0x217755df390>"
      ]
     },
     "execution_count": 5,
     "metadata": {},
     "output_type": "execute_result"
    },
    {
     "data": {
      "image/png": "[encoded data removed]",
      "text/plain": [
       "<Figure size 432x288 with 1 Axes>"
      ]
     },
     "metadata": {
      "needs_background": "light"
     },
     "output_type": "display_data"
    }
   ],
   "source": [
    "# generate a one direction random data (easy of visualisation)\n",
    "X = 2 * np.random.rand(100, 1)\n",
    "y = 4 + 3 * X + np.random.rand(100, 1)\n",
    "theta = np.random.rand(1)\n",
    "\n",
    "print(X.shape, y.shape, theta.shape)\n",
    "\n",
    "yhat = X.dot(theta.T)\n",
    "\n",
    "t_n = normal_equation(y, np.c_[np.ones((100,1)), X]) #add x0 = 1 for the intercept\n",
    "X_new = np.c_[np.ones((2,1)), np.array([[0],[2]])]\n",
    "y_new = X_new.dot(t_n)\n",
    "\n",
    "fig, ax = plt.subplots(1, 1)\n",
    "ax.scatter(X, y, c = 'b', s = 10, alpha = 0.8)\n",
    "ax.plot(X_new, y_new)\n",
    "ax.set_title(\"random data\")\n",
    "plt.xlabel('x1')\n",
    "plt.ylabel('y')\n",
    "ax.legend()\n"
   ]
  },
  {
   "cell_type": "code",
   "execution_count": 6,
   "metadata": {},
   "outputs": [],
   "source": [
    "# MSE cost function (root mean square error)\n",
    "# typically used as error function for regression models\n",
    "# the goal is to minimize the error function by finding tbe best\n",
    "# thetas\n",
    "def MSE(X, Theta, y):\n",
    "    y_hat = X.dot(Theta)\n",
    "    MSE = np.sum(np.square(y_hat - y))\n",
    "    return MSE\n",
    "\n",
    "# vectorised version of partial differential equation \n",
    "def d_MSE(X_b, theta, y):    \n",
    "    return 2 / len(X) * X_b.T.dot(X_b.dot(theta) - y)\n",
    "\n",
    "#MSE(y, X, theta)\n",
    "#d_MSE(y, X, theta)"
   ]
  },
  {
   "cell_type": "markdown",
   "metadata": {},
   "source": [
    "## Sklearn linear regression\n",
    "\n",
    "The computational complexity is typically (X^2.3) for normal equation, which is why we normally use GD to minimise cost function."
   ]
  },
  {
   "cell_type": "code",
   "execution_count": 7,
   "metadata": {},
   "outputs": [
    {
     "data": {
      "text/plain": [
       "(array([4.50691602]), array([[3.01960396]]))"
      ]
     },
     "execution_count": 7,
     "metadata": {},
     "output_type": "execute_result"
    }
   ],
   "source": [
    "from sklearn.linear_model import LinearRegression\n",
    "lin_reg = LinearRegression()\n",
    "lin_reg.fit(X, y)\n",
    "lin_reg.intercept_, lin_reg.coef_"
   ]
  },
  {
   "cell_type": "code",
   "execution_count": 8,
   "metadata": {},
   "outputs": [
    {
     "data": {
      "text/plain": [
       "array([[4.50691602],\n",
       "       [3.01960396]])"
      ]
     },
     "execution_count": 8,
     "metadata": {},
     "output_type": "execute_result"
    }
   ],
   "source": [
    "np.c_[lin_reg.intercept_, lin_reg.coef_].T"
   ]
  },
  {
   "cell_type": "code",
   "execution_count": 9,
   "metadata": {},
   "outputs": [
    {
     "data": {
      "text/plain": [
       "array([[4.50691602],\n",
       "       [3.01960396]])"
      ]
     },
     "execution_count": 9,
     "metadata": {},
     "output_type": "execute_result"
    }
   ],
   "source": [
    "t_n"
   ]
  },
  {
   "cell_type": "markdown",
   "metadata": {},
   "source": [
    "## Gradient Descent\n",
    "\n",
    "### Batch Gradient Descent\n",
    "Compute gradients for the whole batch', adjusting theta by minus it against the partial derivative of it with a leanring rate multiplier. The higher the rate the fast, but may result in overshooting. The lower the rate the slower, but may stuck.\n",
    "\n",
    "\n",
    "### Stochastic Gradient Descent\n",
    "Picks a random instance of the training set at every step and compute gradients at the step. This is fast due to size for each step, and makes it possible for training large datasets.  However, less regular due to the random nature and cost may go up and down. "
   ]
  },
  {
   "cell_type": "code",
   "execution_count": 10,
   "metadata": {},
   "outputs": [
    {
     "name": "stdout",
     "output_type": "stream",
     "text": [
      "[[4.5060612 ]\n",
      " [3.02030597]]\n",
      "[[4.52539369]\n",
      " [3.01971705]]\n"
     ]
    }
   ],
   "source": [
    "# Provide a learning rate, goes for number of iterations with an randomised\n",
    "# theta. The hope is to find local minimal.\n",
    "def gradient_descent(learn_rate, n_iter, X, theta, y):    \n",
    "    theta0 = []\n",
    "    theta1 = []\n",
    "    cist = []\n",
    "    for i in range(n_iter):                   \n",
    "        gradients = d_MSE(X, theta, y)\n",
    "        theta = theta - learn_rate * gradients\n",
    "        cost = MSE(X, theta, y)\n",
    "        if i % 10 == 0:\n",
    "            print(f\"{i}, {cost}\")\n",
    "    print(f\"{i} iterations used\")\n",
    "    return theta\n",
    "\n",
    "\n",
    "def learning_schedule(t, t0 = 5, t1 = 50):\n",
    "    return t0 / (t + t1)\n",
    "\n",
    "\n",
    "# stochastic Gradient Descent\n",
    "# initial hyper parameter to adjust to ensure no zero division and reduce learning rate when epoch is higher\n",
    "def SGD(n_epochs, X, theta, y, t0 = 5, t1 = 50):   \n",
    "    \n",
    "    m = len(X)\n",
    "    for epoch in range(n_epochs):\n",
    "        for i in range(m):        \n",
    "            random_index = np.random.randint(m)\n",
    "            xi = X[random_index:random_index + 1]\n",
    "            yi = y[random_index:random_index + 1]\n",
    "            \n",
    "            gradients = d_MSE(xi, theta, yi)\n",
    "            \n",
    "            learning_rate = learning_schedule(epoch + i)\n",
    "            theta = theta - learning_rate * gradients                        \n",
    "        #if epoch % 100 == 0:\n",
    "        #    print(f\"{i}, {MSE(X, theta, y)}, {learning_rate}\")                \n",
    "    return theta\n",
    "\n",
    "# mini batch gradient descent\n",
    "# same as stocastic, but mini random batches of a time\n",
    "def mini_batch_SGD(n_epochs, X, theta, y, batch_size = 1, t0 = 5, t1 = 50):   \n",
    "    m = len(X)\n",
    "    for epoch in range(n_epochs):\n",
    "        for i in range(m):        \n",
    "            random_index = np.random.randint(m)\n",
    "            xi = X[random_index:random_index + batch_size]\n",
    "            yi = y[random_index:random_index + batch_size]\n",
    "            \n",
    "            gradients = d_MSE(xi, theta, yi)\n",
    "            \n",
    "            learning_rate = t0 / (epoch * m + i + t1)\n",
    "            theta = theta - learning_rate * gradients                                          \n",
    "    return theta\n",
    "\n",
    "X_b = np.c_[np.ones((100, 1)), X]\n",
    "theta = np.random.rand(2, 1)\n",
    "#gradient_descent(0.1, 100, X_b, theta, y)\n",
    "print(SGD(10000, X_b, theta, y))\n",
    "print(mini_batch_SGD(100, X_b, theta, y, 100))"
   ]
  },
  {
   "cell_type": "markdown",
   "metadata": {},
   "source": [
    "## Polynomial Regresion\n",
    "\n",
    "Complex non-linear data can be fit with polynominal equestions. This is called Polynomial Regression."
   ]
  },
  {
   "cell_type": "code",
   "execution_count": 11,
   "metadata": {},
   "outputs": [],
   "source": [
    "m = 100\n",
    "X = 6 * np.random.rand(m, 1) - 3\n",
    "y = 0.5 * X ** 2 + X + 2 + np.random.rand(m, 1) \n",
    "\n"
   ]
  },
  {
   "cell_type": "code",
   "execution_count": 12,
   "metadata": {},
   "outputs": [
    {
     "name": "stdout",
     "output_type": "stream",
     "text": [
      "Original: [-1.07476653]\n",
      "Original and it's Squared: [-1.07476653  1.15512309]\n"
     ]
    }
   ],
   "source": [
    "from sklearn.preprocessing import PolynomialFeatures\n",
    "poly_features = PolynomialFeatures(degree = 2, include_bias = False)\n",
    "X_poly = poly_features.fit_transform(X)\n",
    "\n",
    "print(f\"Original: {X[0]}\")\n",
    "print(f\"Original and it's Squared: {X_poly[0]}\")"
   ]
  },
  {
   "cell_type": "code",
   "execution_count": 13,
   "metadata": {},
   "outputs": [
    {
     "name": "stdout",
     "output_type": "stream",
     "text": [
      "y = 0.5096743414786139*x1^2 0.9810435111109812*x2 + 2.496007539039029\n"
     ]
    },
    {
     "data": {
      "text/plain": [
       "<matplotlib.collections.PathCollection at 0x217756592e8>"
      ]
     },
     "execution_count": 13,
     "metadata": {},
     "output_type": "execute_result"
    },
    {
     "data": {
      "image/png": "[encoded data removed]",
      "text/plain": [
       "<Figure size 432x288 with 1 Axes>"
      ]
     },
     "metadata": {
      "needs_background": "light"
     },
     "output_type": "display_data"
    }
   ],
   "source": [
    "lin_reg = LinearRegression()\n",
    "lin_reg.fit(X_poly, y)\n",
    "\n",
    "coefficents = lin_reg.coef_.ravel()\n",
    "intercept = lin_reg.intercept_[0]\n",
    "\n",
    "print(f\"y = {coefficents[1]}*x1^2 {coefficents[0]}*x2 + {intercept}\")\n",
    "\n",
    "\n",
    "\n",
    "X_new = np.linspace(-3, 3, 100)\n",
    "y_new = coefficents[1] * np.square(X_new) + coefficents[0] * X_new + intercept\n",
    "\n",
    "plt.plot(X_new, y_new, c = 'g')\n",
    "plt.scatter(X, y, s = 10, alpha = 0.5)"
   ]
  },
  {
   "cell_type": "code",
   "execution_count": 14,
   "metadata": {},
   "outputs": [
    {
     "data": {
      "text/plain": [
       "2.496007539039029"
      ]
     },
     "execution_count": 14,
     "metadata": {},
     "output_type": "execute_result"
    }
   ],
   "source": [
    "lin_reg.intercept_[0]"
   ]
  },
  {
   "cell_type": "markdown",
   "metadata": {},
   "source": [
    "## Learning Rate\n",
    "\n",
    "Plot Training / Validation *MRSE* vs training set size "
   ]
  },
  {
   "cell_type": "code",
   "execution_count": 15,
   "metadata": {},
   "outputs": [],
   "source": [
    "from sklearn.metrics import mean_squared_error\n",
    "from sklearn.model_selection import train_test_split\n",
    "\n",
    "def plot_learning_curves(model, X, y):\n",
    "    X_train, X_val, y_train, y_val = train_test_split(X, y, test_size = 0.2)\n",
    "    train_errors, val_errors = [], []\n",
    "    for m in range(1, len(X_train)):\n",
    "        model.fit(X_train[:m], y_train[:m])\n",
    "        y_train_predict = model.predict(X_train[:m])\n",
    "        y_val_predict = model.predict(X_val)\n",
    "        train_errors.append(mean_squared_error(y_train[:m], y_train_predict))\n",
    "        val_errors.append(mean_squared_error(y_val, y_val_predict))\n",
    "    plt.plot(np.sqrt(train_errors), 'r-+', linewidth = 2, label = 'train')\n",
    "    plt.plot(np.sqrt(val_errors), 'b-', linewidth = 2, label = 'val')\n",
    "    #return train_errors, val_errors\n",
    "    "
   ]
  },
  {
   "cell_type": "markdown",
   "metadata": {},
   "source": [
    "When training instances are 1 or 2 points, error will be 0, but generalise very poorly therefore high error, as training increases, the error in training will go up until it plateaus.The validation set may go done. However, due to the polynomial nature of the data, the error remains high. This indicate model is underfitting"
   ]
  },
  {
   "cell_type": "code",
   "execution_count": 16,
   "metadata": {},
   "outputs": [
    {
     "data": {
      "image/png": "[encoded data removed]",
      "text/plain": [
       "<Figure size 432x288 with 1 Axes>"
      ]
     },
     "metadata": {
      "needs_background": "light"
     },
     "output_type": "display_data"
    }
   ],
   "source": [
    "lin_reg = LinearRegression()\n",
    "#X, y = generate_random_data()\n",
    "plot_learning_curves(lin_reg, X, y)"
   ]
  },
  {
   "cell_type": "code",
   "execution_count": 17,
   "metadata": {},
   "outputs": [
    {
     "data": {
      "image/png": "[encoded data removed]",
      "text/plain": [
       "<Figure size 432x288 with 1 Axes>"
      ]
     },
     "metadata": {
      "needs_background": "light"
     },
     "output_type": "display_data"
    }
   ],
   "source": [
    "from sklearn.pipeline import Pipeline\n",
    "\n",
    "polynomial_regression = Pipeline([\n",
    "                            ('poly_features', PolynomialFeatures(degree = 20, include_bias=False)),\n",
    "                            ('lin_reg', LinearRegression())\n",
    "                        ])\n",
    "\n",
    "plot_learning_curves(polynomial_regression, X, y)"
   ]
  },
  {
   "cell_type": "markdown",
   "metadata": {},
   "source": [
    "## Bias / Variance / Irreducible Error\n",
    "\n",
    "### Bias\n",
    "This part of the generalisation error is due to wrong assumptions, such as assuming that data is linear when it is actually quandratic. A high-bias model is most like to underfit the training data.\n",
    "\n",
    "### Variance\n",
    "This part is due to the model's excessive sensitivity to small variations in the training data. A model with many degrees of freedom (such as a high-degree polynomial model) is likely to have high variance, and thus to overfit the training data. \n",
    "\n",
    "### Irreducible Error\n",
    "This part is due to the noisiness of the data itself. The only way to reduce this part of the error is to clean up data.\n",
    "\n",
    "Bias and Variance is always a trade off between model complexity (more complex less bias more variance.)"
   ]
  },
  {
   "cell_type": "markdown",
   "metadata": {},
   "source": [
    "## Regularisation\n",
    "\n",
    "### Ridge Regression\n",
    "Ridge Regrssion (Tikhnov regularisation) is a regularised version of linear regression. Forces model not only fit but keep the weights as small as possible.\n",
    "\n",
    "Sum of all weight^2 with a hyper parameter (alpha which controlls how much regularisation is applied. if 0 then typical linear regression).\n",
    "\n",
    "#### Cost function\n",
    "j(theta) = MSE(theta) + alpha * 1/2 * sum(theta^2)\n",
    "\n",
    "sum(theta^2) = l2 norm\n",
    "\n",
    "\n",
    "### Lasso Regrssion\n",
    "Least absolute shrinkage and selection operator regression, using l1 norm instead of l2 norm\n",
    "\n",
    "#### Cost function\n",
    "j(theta) = MSE(theta) + alpha * sum(abs(theta))\n",
    "\n",
    "\n",
    "### Elastic Net\n",
    "j(theta) = MSE(theta) + r*alpha* sum(abs(theta)) + (1-r)/2 * alpha * sum(theta^2)\n",
    "\n",
    "Note that ridge regression is a useful technique if as it automatically reduce features, however if there are features of importance it would be better to use Lasso or Elastic Net"
   ]
  },
  {
   "cell_type": "markdown",
   "metadata": {},
   "source": [
    "## Early Stopping\n",
    "\n",
    "Basically check when validation error is minimal and not decreasing anymore."
   ]
  },
  {
   "cell_type": "code",
   "execution_count": 45,
   "metadata": {},
   "outputs": [],
   "source": [
    "from sklearn.base import clone\n",
    "from sklearn.pipeline import Pipeline\n",
    "from sklearn.preprocessing import PolynomialFeatures\n",
    "from sklearn.preprocessing import StandardScaler\n",
    "from sklearn.linear_model import SGDRegressor\n",
    "from sklearn.metrics import mean_squared_error\n",
    "from sklearn.model_selection import train_test_split\n",
    "\n",
    "\n",
    "X_train, X_val, y_train, y_val = train_test_split(X, y, test_size = 0.2)\n",
    "\n",
    "poly_scaler = Pipeline([\n",
    "    (\"PolynomialFeatures\", PolynomialFeatures(degree = 2, include_bias = True)),\n",
    "    (\"StandardScaler\", StandardScaler())\n",
    "])\n",
    "\n",
    "X_train_poly_scaled = poly_scaler.fit_transform(X_train)\n",
    "X_val_poly_scaled = poly_scaler.fit_transform(X_val)\n",
    "\n",
    "\n",
    "sgd_reg = SGDRegressor(n_iter_no_change = 1, warm_start = True, penalty = None, learning_rate = \"constant\", eta0 = 0.0005)\n",
    "\n",
    "min_val_error = float(\"inf\")\n",
    "\n",
    "best_epoch = None\n",
    "best_model = None\n",
    "\n",
    "for epoch in range(1000):\n",
    "    sgd_reg.fit(X_train_poly_scaled, y_train.ravel())\n",
    "    y_val_predict = sgd_reg.predict(X_val_poly_scaled)\n",
    "    val_error = mean_squared_error(y_val_predict, y_val)\n",
    "    if val_error < min_val_error:\n",
    "        min_val_error = val_error\n",
    "        best_epoch = epoch\n",
    "        best_model = clone(sgd_reg)\n",
    "\n"
   ]
  },
  {
   "cell_type": "code",
   "execution_count": 46,
   "metadata": {},
   "outputs": [
    {
     "name": "stdout",
     "output_type": "stream",
     "text": [
      "802\n",
      "[0.         1.54304565 1.35021219] [3.59649334]\n"
     ]
    }
   ],
   "source": [
    "print(best_epoch)\n",
    "print(sgd_reg.coef_, sgd_reg.intercept_)"
   ]
  },
  {
   "cell_type": "code",
   "execution_count": 50,
   "metadata": {},
   "outputs": [
    {
     "data": {
      "text/plain": [
       "array([-0.68582861])"
      ]
     },
     "execution_count": 50,
     "metadata": {},
     "output_type": "execute_result"
    }
   ],
   "source": [
    "X_train[0]\n"
   ]
  },
  {
   "cell_type": "code",
   "execution_count": 49,
   "metadata": {},
   "outputs": [
    {
     "data": {
      "text/plain": [
       "array([ 0.        , -0.29084314, -0.78422066])"
      ]
     },
     "execution_count": 49,
     "metadata": {},
     "output_type": "execute_result"
    }
   ],
   "source": [
    "X_train_poly_scaled[0]"
   ]
  },
  {
   "cell_type": "code",
   "execution_count": null,
   "metadata": {},
   "outputs": [],
   "source": []
  }
 ],
 "metadata": {
  "kernelspec": {
   "display_name": "classification",
   "language": "python",
   "name": "classification"
  },
  "language_info": {
   "codemirror_mode": {
    "name": "ipython",
    "version": 3
   },
   "file_extension": ".py",
   "mimetype": "text/x-python",
   "name": "python",
   "nbconvert_exporter": "python",
   "pygments_lexer": "ipython3",
   "version": "3.7.2"
  }
 },
 "nbformat": 4,
 "nbformat_minor": 4
}
