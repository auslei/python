{
 "cells": [
  {
   "cell_type": "code",
   "execution_count": 2,
   "metadata": {},
   "outputs": [],
   "source": [
    "#import librarries\n",
    "import numpy as np\n",
    "import matplotlib.pyplot as plt \n",
    "%matplotlib inline\n",
    "\n",
    "\n",
    "# normal equation\n",
    "def normal_equation(y, X):\n",
    "    return np.linalg.inv(X.T.dot(X)).dot(X.T).dot(y)"
   ]
  },
  {
   "cell_type": "code",
   "execution_count": 3,
   "metadata": {},
   "outputs": [
    {
     "name": "stderr",
     "output_type": "stream",
     "text": [
      "No handles with labels found to put in legend.\n"
     ]
    },
    {
     "name": "stdout",
     "output_type": "stream",
     "text": [
      "(100, 1) (100, 1) (1,)\n"
     ]
    },
    {
     "data": {
      "text/plain": [
       "<matplotlib.legend.Legend at 0x1dc55da7b00>"
      ]
     },
     "execution_count": 3,
     "metadata": {},
     "output_type": "execute_result"
    },
    {
     "data": {
      "image/png": "[encoded data removed]",
      "text/plain": [
       "<Figure size 432x288 with 1 Axes>"
      ]
     },
     "metadata": {
      "needs_background": "light"
     },
     "output_type": "display_data"
    }
   ],
   "source": [
    "# generate a one direction random data (easy of visualisation)\n",
    "X = 2 * np.random.rand(100, 1)\n",
    "y = 4 + 3 * X + np.random.rand(100, 1)\n",
    "theta = np.random.rand(1)\n",
    "\n",
    "print(X.shape, y.shape, theta.shape)\n",
    "\n",
    "yhat = X.dot(theta.T)\n",
    "\n",
    "t_n = normal_equation(y, np.c_[np.ones((100,1)), X]) #add x0 = 1 for the intercept\n",
    "X_new = np.c_[np.ones((2,1)), np.array([[0],[2]])]\n",
    "y_new = X_new.dot(t_n)\n",
    "\n",
    "fig, ax = plt.subplots(1, 1)\n",
    "ax.scatter(X, y, c = 'b', s = 10, alpha = 0.8)\n",
    "ax.plot(X_new, y_new)\n",
    "ax.set_title(\"random data\")\n",
    "plt.xlabel('x1')\n",
    "plt.ylabel('y')\n",
    "ax.legend()\n"
   ]
  },
  {
   "cell_type": "code",
   "execution_count": 4,
   "metadata": {},
   "outputs": [],
   "source": [
    "# MSE cost function (root mean square error)\n",
    "# typically used as error function for regression models\n",
    "# the goal is to minimize the error function by finding tbe best\n",
    "# thetas\n",
    "def MSE(X, Theta, y):\n",
    "    y_hat = X.dot(Theta)\n",
    "    MSE = np.sum(np.square(y_hat - y))\n",
    "    return MSE\n",
    "\n",
    "# vectorised version of partial differential equation \n",
    "def d_MSE(X_b, theta, y):    \n",
    "    return 2 / len(X) * X_b.T.dot(X_b.dot(theta) - y)\n",
    "\n",
    "#MSE(y, X, theta)\n",
    "#d_MSE(y, X, theta)"
   ]
  },
  {
   "cell_type": "markdown",
   "metadata": {},
   "source": [
    "## Sklearn linear regression\n",
    "\n",
    "The computational complexity is typically (X^2.3) for normal equation, which is why we normally use GD to minimise cost function."
   ]
  },
  {
   "cell_type": "code",
   "execution_count": 5,
   "metadata": {},
   "outputs": [
    {
     "data": {
      "text/plain": [
       "(array([4.49521929]), array([[3.06517746]]))"
      ]
     },
     "execution_count": 5,
     "metadata": {},
     "output_type": "execute_result"
    }
   ],
   "source": [
    "from sklearn.linear_model import LinearRegression\n",
    "lin_reg = LinearRegression()\n",
    "lin_reg.fit(X, y)\n",
    "lin_reg.intercept_, lin_reg.coef_"
   ]
  },
  {
   "cell_type": "code",
   "execution_count": 6,
   "metadata": {},
   "outputs": [
    {
     "data": {
      "text/plain": [
       "array([[4.49521929],\n",
       "       [3.06517746]])"
      ]
     },
     "execution_count": 6,
     "metadata": {},
     "output_type": "execute_result"
    }
   ],
   "source": [
    "np.c_[lin_reg.intercept_, lin_reg.coef_].T"
   ]
  },
  {
   "cell_type": "code",
   "execution_count": 7,
   "metadata": {},
   "outputs": [
    {
     "data": {
      "text/plain": [
       "array([[4.49521929],\n",
       "       [3.06517746]])"
      ]
     },
     "execution_count": 7,
     "metadata": {},
     "output_type": "execute_result"
    }
   ],
   "source": [
    "t_n"
   ]
  },
  {
   "cell_type": "markdown",
   "metadata": {},
   "source": [
    "## Gradient Descent\n",
    "\n",
    "### Batch Gradient Descent\n",
    "Compute gradients for the whole batch', adjusting theta by minus it against the partial derivative of it with a leanring rate multiplier. The higher the rate the fast, but may result in overshooting. The lower the rate the slower, but may stuck.\n",
    "\n",
    "\n",
    "### Stochastic Gradient Descent\n",
    "Picks a random instance of the training set at every step and compute gradients at the step. This is fast due to size for each step, and makes it possible for training large datasets.  However, less regular due to the random nature and cost may go up and down. "
   ]
  },
  {
   "cell_type": "code",
   "execution_count": 38,
   "metadata": {},
   "outputs": [
    {
     "name": "stdout",
     "output_type": "stream",
     "text": [
      "[[4.49461144]\n",
      " [3.06560275]]\n",
      "[[4.48869033]\n",
      " [3.06276077]]\n"
     ]
    }
   ],
   "source": [
    "# Provide a learning rate, goes for number of iterations with an randomised\n",
    "# theta. The hope is to find local minimal.\n",
    "def gradient_descent(learn_rate, n_iter, X, theta, y):    \n",
    "    theta0 = []\n",
    "    theta1 = []\n",
    "    cist = []\n",
    "    for i in range(n_iter):                   \n",
    "        gradients = d_MSE(X, theta, y)\n",
    "        theta = theta - learn_rate * gradients\n",
    "        cost = MSE(X, theta, y)\n",
    "        if i % 10 == 0:\n",
    "            print(f\"{i}, {cost}\")\n",
    "    print(f\"{i} iterations used\")\n",
    "    return theta\n",
    "\n",
    "\n",
    "def learning_schedule(t, t0 = 5, t1 = 50):\n",
    "    return t0 / (t + t1)\n",
    "\n",
    "\n",
    "# stochastic Gradient Descent\n",
    "# initial hyper parameter to adjust to ensure no zero division and reduce learning rate when epoch is higher\n",
    "def SGD(n_epochs, X, theta, y, t0 = 5, t1 = 50):   \n",
    "    \n",
    "    m = len(X)\n",
    "    for epoch in range(n_epochs):\n",
    "        for i in range(m):        \n",
    "            random_index = np.random.randint(m)\n",
    "            xi = X[random_index:random_index + 1]\n",
    "            yi = y[random_index:random_index + 1]\n",
    "            \n",
    "            gradients = d_MSE(xi, theta, yi)\n",
    "            \n",
    "            learning_rate = learning_schedule(epoch + i)\n",
    "            theta = theta - learning_rate * gradients                        \n",
    "        #if epoch % 100 == 0:\n",
    "        #    print(f\"{i}, {MSE(X, theta, y)}, {learning_rate}\")                \n",
    "    return theta\n",
    "\n",
    "# mini batch gradient descent\n",
    "# same as stocastic, but mini random batches of a time\n",
    "def mini_batch_SGD(n_epochs, X, theta, y, batch_size = 1, t0 = 5, t1 = 50):   \n",
    "    m = len(X)\n",
    "    for epoch in range(n_epochs):\n",
    "        for i in range(m):        \n",
    "            random_index = np.random.randint(m)\n",
    "            xi = X[random_index:random_index + batch_size]\n",
    "            yi = y[random_index:random_index + batch_size]\n",
    "            \n",
    "            gradients = d_MSE(xi, theta, yi)\n",
    "            \n",
    "            learning_rate = t0 / (epoch * m + i + t1)\n",
    "            theta = theta - learning_rate * gradients                                          \n",
    "    return theta\n",
    "\n",
    "X_b = np.c_[np.ones((100, 1)), X]\n",
    "theta = np.random.rand(2, 1)\n",
    "#gradient_descent(0.1, 100, X_b, theta, y)\n",
    "print(SGD(10000, X_b, theta, y))\n",
    "print(mini_batch_SGD(100, X_b, theta, y, 100))"
   ]
  },
  {
   "cell_type": "markdown",
   "metadata": {},
   "source": [
    "## Polynomial Regresion\n",
    "\n",
    "Complex non-linear data can be fit with polynominal equestions. This is called Polynomial Regression."
   ]
  },
  {
   "cell_type": "code",
   "execution_count": 39,
   "metadata": {},
   "outputs": [
    {
     "data": {
      "text/plain": [
       "<matplotlib.collections.PathCollection at 0x1dc68ae22b0>"
      ]
     },
     "execution_count": 39,
     "metadata": {},
     "output_type": "execute_result"
    },
    {
     "data": {
      "image/png": "[encoded data removed]",
      "text/plain": [
       "<Figure size 432x288 with 1 Axes>"
      ]
     },
     "metadata": {
      "needs_background": "light"
     },
     "output_type": "display_data"
    }
   ],
   "source": [
    "m = 100\n",
    "X = 6 * np.random.rand(m, 1) - 3\n",
    "y = 0.5 * X ** 2 + X + 2 + np.random.rand(m, 1) \n",
    "\n"
   ]
  },
  {
   "cell_type": "code",
   "execution_count": 45,
   "metadata": {},
   "outputs": [
    {
     "name": "stdout",
     "output_type": "stream",
     "text": [
      "Original: [2.37858619]\n",
      "Original and it's Squared: [2.37858619 5.65767225]\n"
     ]
    }
   ],
   "source": [
    "from sklearn.preprocessing import PolynomialFeatures\n",
    "poly_features = PolynomialFeatures(degree = 2, include_bias = False)\n",
    "X_poly = poly_features.fit_transform(X)\n",
    "\n",
    "print(f\"Original: {X[0]}\")\n",
    "print(f\"Original and it's Squared: {X_poly[0]}\")"
   ]
  },
  {
   "cell_type": "code",
   "execution_count": 59,
   "metadata": {},
   "outputs": [
    {
     "name": "stdout",
     "output_type": "stream",
     "text": [
      "y = 0.5072552694109626*x1^2 1.000697608012392*x2 + 2.418904887483393\n"
     ]
    },
    {
     "data": {
      "text/plain": [
       "<matplotlib.collections.PathCollection at 0x1dc6a7c21d0>"
      ]
     },
     "execution_count": 59,
     "metadata": {},
     "output_type": "execute_result"
    },
    {
     "data": {
      "image/png": "[encoded data removed]",
      "text/plain": [
       "<Figure size 432x288 with 1 Axes>"
      ]
     },
     "metadata": {
      "needs_background": "light"
     },
     "output_type": "display_data"
    }
   ],
   "source": [
    "lin_reg = LinearRegression()\n",
    "lin_reg.fit(X_poly, y)\n",
    "\n",
    "coefficents = lin_reg.coef_.ravel()\n",
    "intercept = lin_reg.intercept_[0]\n",
    "\n",
    "print(f\"y = {coefficents[1]}*x1^2 {coefficents[0]}*x2 + {intercept}\")\n",
    "\n",
    "\n",
    "\n",
    "X_new = np.linspace(-3, 3, 100)\n",
    "y_new = coefficents[1] * np.square(X_new) + coefficents[0] * X_new + intercept\n",
    "\n",
    "plt.plot(X_new, y_new, c = 'g')\n",
    "plt.scatter(X, y, s = 10, alpha = 0.5)"
   ]
  },
  {
   "cell_type": "code",
   "execution_count": 54,
   "metadata": {},
   "outputs": [
    {
     "data": {
      "text/plain": [
       "2.418904887483393"
      ]
     },
     "execution_count": 54,
     "metadata": {},
     "output_type": "execute_result"
    }
   ],
   "source": [
    "lin_reg.intercept_[0]"
   ]
  },
  {
   "cell_type": "code",
   "execution_count": null,
   "metadata": {},
   "outputs": [],
   "source": []
  }
 ],
 "metadata": {
  "kernelspec": {
   "display_name": "classification",
   "language": "python",
   "name": "classification"
  },
  "language_info": {
   "codemirror_mode": {
    "name": "ipython",
    "version": 3
   },
   "file_extension": ".py",
   "mimetype": "text/x-python",
   "name": "python",
   "nbconvert_exporter": "python",
   "pygments_lexer": "ipython3",
   "version": "3.7.2"
  }
 },
 "nbformat": 4,
 "nbformat_minor": 4
}
