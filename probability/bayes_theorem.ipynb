{
 "cells": [
  {
   "attachments": {
    "image.png": {
     "image/png": "[encoded data removed]"
    }
   },
   "cell_type": "markdown",
   "metadata": {},
   "source": [
    "## Baye's Theorem \n",
    "\n",
    "![image.png](attachment:image.png)\n",
    "\n",
    "P(A|B) = P(A^B) / P(B)\n",
    "P(B|A) = P(A^B) / P(A)\n",
    "\n",
    "Therefore:\n",
    "P(A|B) = P(B|A) * P(A) / P(B)\n",
    "\n",
    "In example of a family has 2 kids:\n",
    "- Probabilty of 2 girls will be 1/2 * 1/2 = 1/4\n",
    "- Probabilty of at least 1 girl is 3/4. (GG, GB, BG, BB)\n",
    "- Probabilty of 1 girl given there are 2 girls is certain which is 100% (1)\n",
    "\n",
    "Therefore:\n",
    "P(2g | 1g) = P(1g | 2g) * P(2g) / P(1g) = 1 * 1/4 / 3/4 = 1/3"
   ]
  },
  {
   "cell_type": "code",
   "execution_count": null,
   "metadata": {},
   "outputs": [],
   "source": [
    "import random\n",
    "\n",
    "def random_kid():\n",
    "    return random.choice([\"boy\", \"girl\"])\n",
    "\n",
    "both_girls = 0\n",
    "older_girl = 0\n",
    "either_girl = 0\n",
    "\n",
    "random.seed(0)\n",
    "\n",
    "for _ in range(10000):\n",
    "    younger = random_kid()\n",
    "    older = random_kid()\n",
    "    if older == \"girl\":\n",
    "        older_girl += 1\n",
    "    if older == \"girl\" and younger == \"girl\":\n",
    "        both_girls += 1\n",
    "    if older == \"girl\" or younger == \"girl\":\n",
    "        either_girl +=1\n",
    "\n",
    "print(f\"P(both | older): {1 * both_girls / older_girl}\")\n",
    "print(f\"P(both | either): {1 * both_girls / either_girl}\")"
   ]
  }
 ],
 "metadata": {
  "kernelspec": {
   "display_name": "Python 3",
   "language": "python",
   "name": "python3"
  },
  "language_info": {
   "codemirror_mode": {
    "name": "ipython",
    "version": 3
   },
   "file_extension": ".py",
   "mimetype": "text/x-python",
   "name": "python",
   "nbconvert_exporter": "python",
   "pygments_lexer": "ipython3",
   "version": "3.6.9"
  }
 },
 "nbformat": 4,
 "nbformat_minor": 4
}
